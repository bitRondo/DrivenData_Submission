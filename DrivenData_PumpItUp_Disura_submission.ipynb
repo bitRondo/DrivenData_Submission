{
  "nbformat": 4,
  "nbformat_minor": 0,
  "metadata": {
    "colab": {
      "name": "DrivenData_PumpItUp_Disura_3.ipynb",
      "provenance": [],
      "collapsed_sections": []
    },
    "kernelspec": {
      "name": "python3",
      "display_name": "Python 3"
    },
    "language_info": {
      "name": "python"
    }
  },
  "cells": [
    {
      "cell_type": "markdown",
      "metadata": {
        "id": "6JV9vWE2RIkb"
      },
      "source": [
        "Importing numpy and pandas"
      ]
    },
    {
      "cell_type": "code",
      "metadata": {
        "id": "9WPOb-DTQAZm"
      },
      "source": [
        "import numpy as np\n",
        "import pandas as pd"
      ],
      "execution_count": null,
      "outputs": []
    },
    {
      "cell_type": "markdown",
      "metadata": {
        "id": "AWsCfU5Zsrm_"
      },
      "source": [
        "Importing more utilites"
      ]
    },
    {
      "cell_type": "code",
      "metadata": {
        "id": "kys2ZnPQsuaG"
      },
      "source": [
        "import matplotlib.pyplot as plt\n",
        "import seaborn as sns\n",
        "\n",
        "from sklearn.impute import SimpleImputer"
      ],
      "execution_count": null,
      "outputs": []
    },
    {
      "cell_type": "markdown",
      "metadata": {
        "id": "9QAyHAeNYPAa"
      },
      "source": [
        "# Part 1 : Loading training and test data"
      ]
    },
    {
      "cell_type": "markdown",
      "metadata": {
        "id": "tE598rcPTgeB"
      },
      "source": [
        "\n",
        "\n",
        "*   Variables to hold paths of training features, training labels, and test features respectively\n",
        "\n"
      ]
    },
    {
      "cell_type": "code",
      "metadata": {
        "id": "gvvfrILuSiZm"
      },
      "source": [
        "f_tr_feat = './training_features.csv'\n",
        "f_tr_lab = './training_labels.csv'\n",
        "f_te_feat = './testing_features.csv'"
      ],
      "execution_count": null,
      "outputs": []
    },
    {
      "cell_type": "markdown",
      "metadata": {
        "id": "N1A2qsE1UF9s"
      },
      "source": [
        "\n",
        "\n",
        "*   Reading files as Dataframes\n",
        "\n"
      ]
    },
    {
      "cell_type": "code",
      "metadata": {
        "id": "Xv_wcecPUTI6"
      },
      "source": [
        "train_feats = pd.read_csv(f_tr_feat, parse_dates=True)\n",
        "train_labels = pd.read_csv(f_tr_lab)\n",
        "test_feats = pd.read_csv(f_te_feat, parse_dates=True)"
      ],
      "execution_count": null,
      "outputs": []
    },
    {
      "cell_type": "markdown",
      "metadata": {
        "id": "ba3xAfz2UyuT"
      },
      "source": [
        "Let us examine the dataframes to make sure they have been read properly."
      ]
    },
    {
      "cell_type": "code",
      "metadata": {
        "id": "75bfC1NZU5NF"
      },
      "source": [
        "# train_feats.head()"
      ],
      "execution_count": null,
      "outputs": []
    },
    {
      "cell_type": "code",
      "metadata": {
        "id": "AglMWm0JVGfK"
      },
      "source": [
        "# train_feats.describe()"
      ],
      "execution_count": null,
      "outputs": []
    },
    {
      "cell_type": "code",
      "metadata": {
        "id": "64f6zvSgVbnp"
      },
      "source": [
        "# train_labels.head()"
      ],
      "execution_count": null,
      "outputs": []
    },
    {
      "cell_type": "code",
      "metadata": {
        "id": "yym_230OXGEf"
      },
      "source": [
        "# test_feats.head()"
      ],
      "execution_count": null,
      "outputs": []
    },
    {
      "cell_type": "code",
      "metadata": {
        "id": "46NZi5jZXMNX"
      },
      "source": [
        "# test_feats.describe()"
      ],
      "execution_count": null,
      "outputs": []
    },
    {
      "cell_type": "markdown",
      "metadata": {
        "id": "2aOZSxa_XUta"
      },
      "source": [
        "In summary, there are"
      ]
    },
    {
      "cell_type": "code",
      "metadata": {
        "colab": {
          "base_uri": "https://localhost:8080/"
        },
        "id": "Y_dd13-RXZIo",
        "outputId": "d49206a7-06e5-4ca4-aa45-74b730a9f76d"
      },
      "source": [
        "print(f\"{train_feats.shape[0]} training data\")\n",
        "print(f\"{train_feats.shape[1]} original features\")\n",
        "print(f\"{test_feats.shape[0]} test data\")"
      ],
      "execution_count": null,
      "outputs": [
        {
          "output_type": "stream",
          "name": "stdout",
          "text": [
            "59400 training data\n",
            "40 original features\n",
            "14850 test data\n"
          ]
        }
      ]
    },
    {
      "cell_type": "markdown",
      "metadata": {
        "id": "wZhk879ZYmJI"
      },
      "source": [
        "# Part 2 : Analyzing Data"
      ]
    },
    {
      "cell_type": "markdown",
      "metadata": {
        "id": "qDuwp1ZQOCWY"
      },
      "source": [
        "First, let us see how many waterpoints are there in each category in the training set. "
      ]
    },
    {
      "cell_type": "code",
      "metadata": {
        "colab": {
          "base_uri": "https://localhost:8080/",
          "height": 388
        },
        "id": "fju8T67YOMvr",
        "outputId": "b8c9720d-b1f3-4248-d220-e483b8928da3"
      },
      "source": [
        "colors = sns.color_palette()[:3]\n",
        "train_labels.status_group.value_counts().plot.bar(color=colors)"
      ],
      "execution_count": null,
      "outputs": [
        {
          "output_type": "execute_result",
          "data": {
            "text/plain": [
              "<matplotlib.axes._subplots.AxesSubplot at 0x7f3d715e8e50>"
            ]
          },
          "metadata": {},
          "execution_count": 283
        },
        {
          "output_type": "display_data",
          "data": {
            "image/png": "[encoded data removed]",
            "text/plain": [
              "<Figure size 432x288 with 1 Axes>"
            ]
          },
          "metadata": {
            "needs_background": "light"
          }
        }
      ]
    },
    {
      "cell_type": "markdown",
      "metadata": {
        "id": "9K2As6I2QOmh"
      },
      "source": [
        "Seems like the most of them are 'functional'. Least are 'functional needs repair'."
      ]
    },
    {
      "cell_type": "markdown",
      "metadata": {
        "id": "81DzvAkyYq7x"
      },
      "source": [
        "Now let us analyze about the features in the dataset in more detail. As you know, the dataset is about waterpoints in Tanzania."
      ]
    },
    {
      "cell_type": "markdown",
      "metadata": {
        "id": "v7z2Oo4iaqIC"
      },
      "source": [
        "Following are the feature column names:"
      ]
    },
    {
      "cell_type": "code",
      "metadata": {
        "colab": {
          "base_uri": "https://localhost:8080/"
        },
        "id": "beOhcej0aukx",
        "outputId": "51fbdffe-3ce5-4488-ae27-976b01f01246"
      },
      "source": [
        "train_feats.columns"
      ],
      "execution_count": null,
      "outputs": [
        {
          "output_type": "execute_result",
          "data": {
            "text/plain": [
              "Index(['id', 'amount_tsh', 'date_recorded', 'funder', 'gps_height',\n",
              "       'installer', 'longitude', 'latitude', 'wpt_name', 'num_private',\n",
              "       'basin', 'subvillage', 'region', 'region_code', 'district_code', 'lga',\n",
              "       'ward', 'population', 'public_meeting', 'recorded_by',\n",
              "       'scheme_management', 'scheme_name', 'permit', 'construction_year',\n",
              "       'extraction_type', 'extraction_type_group', 'extraction_type_class',\n",
              "       'management', 'management_group', 'payment', 'payment_type',\n",
              "       'water_quality', 'quality_group', 'quantity', 'quantity_group',\n",
              "       'source', 'source_type', 'source_class', 'waterpoint_type',\n",
              "       'waterpoint_type_group'],\n",
              "      dtype='object')"
            ]
          },
          "metadata": {},
          "execution_count": 284
        }
      ]
    },
    {
      "cell_type": "markdown",
      "metadata": {
        "id": "2uoJNwFVhrsr"
      },
      "source": [
        "Now let us see what are the data types of these feature columns."
      ]
    },
    {
      "cell_type": "code",
      "metadata": {
        "colab": {
          "base_uri": "https://localhost:8080/"
        },
        "id": "256TrjQ5hwly",
        "outputId": "15d6a476-fa58-4dc6-c866-b3a2d32f9c30"
      },
      "source": [
        "train_feats.dtypes"
      ],
      "execution_count": null,
      "outputs": [
        {
          "output_type": "execute_result",
          "data": {
            "text/plain": [
              "id                         int64\n",
              "amount_tsh               float64\n",
              "date_recorded             object\n",
              "funder                    object\n",
              "gps_height                 int64\n",
              "installer                 object\n",
              "longitude                float64\n",
              "latitude                 float64\n",
              "wpt_name                  object\n",
              "num_private                int64\n",
              "basin                     object\n",
              "subvillage                object\n",
              "region                    object\n",
              "region_code                int64\n",
              "district_code              int64\n",
              "lga                       object\n",
              "ward                      object\n",
              "population                 int64\n",
              "public_meeting            object\n",
              "recorded_by               object\n",
              "scheme_management         object\n",
              "scheme_name               object\n",
              "permit                    object\n",
              "construction_year          int64\n",
              "extraction_type           object\n",
              "extraction_type_group     object\n",
              "extraction_type_class     object\n",
              "management                object\n",
              "management_group          object\n",
              "payment                   object\n",
              "payment_type              object\n",
              "water_quality             object\n",
              "quality_group             object\n",
              "quantity                  object\n",
              "quantity_group            object\n",
              "source                    object\n",
              "source_type               object\n",
              "source_class              object\n",
              "waterpoint_type           object\n",
              "waterpoint_type_group     object\n",
              "dtype: object"
            ]
          },
          "metadata": {},
          "execution_count": 285
        }
      ]
    },
    {
      "cell_type": "markdown",
      "metadata": {
        "id": "8krwRJ0gi1TC"
      },
      "source": [
        "It seems like many features are categorical as their data type is ```object```."
      ]
    },
    {
      "cell_type": "markdown",
      "metadata": {
        "id": "RyJxocz3TNGx"
      },
      "source": [
        "# Part 3: Data Preprocessing"
      ]
    },
    {
      "cell_type": "markdown",
      "metadata": {
        "id": "KXr_WbICTXTB"
      },
      "source": [
        "Let us check in which columns are there missing values. Note that missing values can be null, and in some cases 0 might represent missing data as well. What we will mainly do here is to fit a `SimpleImputer` from data in training set, and apply transforms on the train and test sets. Before starting off, let us take copies of the training and test sets."
      ]
    },
    {
      "cell_type": "code",
      "metadata": {
        "colab": {
          "base_uri": "https://localhost:8080/"
        },
        "id": "s8DGYwoRUIrZ",
        "outputId": "721512a3-ca3e-4d5d-a8a4-c656dbe805fb"
      },
      "source": [
        "train_copy = train_feats.copy()\n",
        "test_copy = test_feats.copy()\n",
        "train_copy.shape, test_copy.shape"
      ],
      "execution_count": null,
      "outputs": [
        {
          "output_type": "execute_result",
          "data": {
            "text/plain": [
              "((59400, 40), (14850, 40))"
            ]
          },
          "metadata": {},
          "execution_count": 286
        }
      ]
    },
    {
      "cell_type": "markdown",
      "metadata": {
        "id": "1jUq-d2MTrOx"
      },
      "source": [
        "First let us consider null values. Following are the columns which have null values in the training set."
      ]
    },
    {
      "cell_type": "code",
      "metadata": {
        "colab": {
          "base_uri": "https://localhost:8080/"
        },
        "id": "75bfhlqdT3sk",
        "outputId": "4e33a027-7334-428c-8a2c-e8ae953c380e"
      },
      "source": [
        "cols_with_null = train_copy.columns[train_copy.isna().any()].tolist()\n",
        "cols_with_null"
      ],
      "execution_count": null,
      "outputs": [
        {
          "output_type": "execute_result",
          "data": {
            "text/plain": [
              "['funder',\n",
              " 'installer',\n",
              " 'subvillage',\n",
              " 'public_meeting',\n",
              " 'scheme_management',\n",
              " 'scheme_name',\n",
              " 'permit']"
            ]
          },
          "metadata": {},
          "execution_count": 287
        }
      ]
    },
    {
      "cell_type": "markdown",
      "metadata": {
        "id": "vH8ovok4w7-X"
      },
      "source": [
        "Before moving further, let us check if there are columns with null values in the test set, which are not in the above list."
      ]
    },
    {
      "cell_type": "code",
      "metadata": {
        "colab": {
          "base_uri": "https://localhost:8080/"
        },
        "id": "-YNTBfVLxS4q",
        "outputId": "3cb69185-137d-43a1-c48f-3bbe12202ca6"
      },
      "source": [
        "extra_cols_with_null = [x for x in test_copy.columns[train_copy.isna().any()].tolist() if x not in cols_with_null]\n",
        "\n",
        "extra_cols_with_null"
      ],
      "execution_count": null,
      "outputs": [
        {
          "output_type": "execute_result",
          "data": {
            "text/plain": [
              "[]"
            ]
          },
          "metadata": {},
          "execution_count": 288
        }
      ]
    },
    {
      "cell_type": "markdown",
      "metadata": {
        "id": "bRO3dIgAx8nC"
      },
      "source": [
        "Well, that is good to see. It means that we have to deal with the same columns in both sets in this case."
      ]
    },
    {
      "cell_type": "markdown",
      "metadata": {
        "id": "WD5-UFgIyN2w"
      },
      "source": [
        "Let us first see some stats about these columns in the train set."
      ]
    },
    {
      "cell_type": "code",
      "metadata": {
        "colab": {
          "base_uri": "https://localhost:8080/",
          "height": 173
        },
        "id": "fZuRoTnMXQYt",
        "outputId": "8b6a9da1-8119-4da3-c197-73b710c2f80b"
      },
      "source": [
        "train_copy[cols_with_null].describe()"
      ],
      "execution_count": null,
      "outputs": [
        {
          "output_type": "execute_result",
          "data": {
            "text/html": [
              "<div>\n",
              "<style scoped>\n",
              "    .dataframe tbody tr th:only-of-type {\n",
              "        vertical-align: middle;\n",
              "    }\n",
              "\n",
              "    .dataframe tbody tr th {\n",
              "        vertical-align: top;\n",
              "    }\n",
              "\n",
              "    .dataframe thead th {\n",
              "        text-align: right;\n",
              "    }\n",
              "</style>\n",
              "<table border=\"1\" class=\"dataframe\">\n",
              "  <thead>\n",
              "    <tr style=\"text-align: right;\">\n",
              "      <th></th>\n",
              "      <th>funder</th>\n",
              "      <th>installer</th>\n",
              "      <th>subvillage</th>\n",
              "      <th>public_meeting</th>\n",
              "      <th>scheme_management</th>\n",
              "      <th>scheme_name</th>\n",
              "      <th>permit</th>\n",
              "    </tr>\n",
              "  </thead>\n",
              "  <tbody>\n",
              "    <tr>\n",
              "      <th>count</th>\n",
              "      <td>55765</td>\n",
              "      <td>55745</td>\n",
              "      <td>59029</td>\n",
              "      <td>56066</td>\n",
              "      <td>55523</td>\n",
              "      <td>31234</td>\n",
              "      <td>56344</td>\n",
              "    </tr>\n",
              "    <tr>\n",
              "      <th>unique</th>\n",
              "      <td>1897</td>\n",
              "      <td>2145</td>\n",
              "      <td>19287</td>\n",
              "      <td>2</td>\n",
              "      <td>12</td>\n",
              "      <td>2696</td>\n",
              "      <td>2</td>\n",
              "    </tr>\n",
              "    <tr>\n",
              "      <th>top</th>\n",
              "      <td>Government Of Tanzania</td>\n",
              "      <td>DWE</td>\n",
              "      <td>Madukani</td>\n",
              "      <td>True</td>\n",
              "      <td>VWC</td>\n",
              "      <td>K</td>\n",
              "      <td>True</td>\n",
              "    </tr>\n",
              "    <tr>\n",
              "      <th>freq</th>\n",
              "      <td>9084</td>\n",
              "      <td>17402</td>\n",
              "      <td>508</td>\n",
              "      <td>51011</td>\n",
              "      <td>36793</td>\n",
              "      <td>682</td>\n",
              "      <td>38852</td>\n",
              "    </tr>\n",
              "  </tbody>\n",
              "</table>\n",
              "</div>"
            ],
            "text/plain": [
              "                        funder installer  ... scheme_name permit\n",
              "count                    55765     55745  ...       31234  56344\n",
              "unique                    1897      2145  ...        2696      2\n",
              "top     Government Of Tanzania       DWE  ...           K   True\n",
              "freq                      9084     17402  ...         682  38852\n",
              "\n",
              "[4 rows x 7 columns]"
            ]
          },
          "metadata": {},
          "execution_count": 289
        }
      ]
    },
    {
      "cell_type": "markdown",
      "metadata": {
        "id": "-eRGPSSXVdZv"
      },
      "source": [
        "Since all the above columns are categorical, a better approach I think is to impute missing values with the most frequent value in the corresponding column. Let us use one `SimpleImputer` for this."
      ]
    },
    {
      "cell_type": "code",
      "metadata": {
        "id": "kNXk1fb5V3oU"
      },
      "source": [
        "# Define the imputer\n",
        "imp_1 = SimpleImputer(missing_values=np.nan, strategy='most_frequent')\n",
        "\n",
        "# Fit and transform on train set\n",
        "train_copy[cols_with_null] = imp_1.fit_transform(train_copy[cols_with_null])\n",
        "\n",
        "# Transform the test set\n",
        "test_copy[cols_with_null] = imp_1.transform(test_copy[cols_with_null])"
      ],
      "execution_count": null,
      "outputs": []
    },
    {
      "cell_type": "markdown",
      "metadata": {
        "id": "ZSQgYGPGW72i"
      },
      "source": [
        "Now let us check how the dataset looks like after imputing null values."
      ]
    },
    {
      "cell_type": "code",
      "metadata": {
        "colab": {
          "base_uri": "https://localhost:8080/",
          "height": 173
        },
        "id": "UHmjBQgOXEuT",
        "outputId": "e889a992-58f1-4c97-a987-027fd08f6c54"
      },
      "source": [
        "train_copy[cols_with_null].describe()"
      ],
      "execution_count": null,
      "outputs": [
        {
          "output_type": "execute_result",
          "data": {
            "text/html": [
              "<div>\n",
              "<style scoped>\n",
              "    .dataframe tbody tr th:only-of-type {\n",
              "        vertical-align: middle;\n",
              "    }\n",
              "\n",
              "    .dataframe tbody tr th {\n",
              "        vertical-align: top;\n",
              "    }\n",
              "\n",
              "    .dataframe thead th {\n",
              "        text-align: right;\n",
              "    }\n",
              "</style>\n",
              "<table border=\"1\" class=\"dataframe\">\n",
              "  <thead>\n",
              "    <tr style=\"text-align: right;\">\n",
              "      <th></th>\n",
              "      <th>funder</th>\n",
              "      <th>installer</th>\n",
              "      <th>subvillage</th>\n",
              "      <th>public_meeting</th>\n",
              "      <th>scheme_management</th>\n",
              "      <th>scheme_name</th>\n",
              "      <th>permit</th>\n",
              "    </tr>\n",
              "  </thead>\n",
              "  <tbody>\n",
              "    <tr>\n",
              "      <th>count</th>\n",
              "      <td>59400</td>\n",
              "      <td>59400</td>\n",
              "      <td>59400</td>\n",
              "      <td>59400</td>\n",
              "      <td>59400</td>\n",
              "      <td>59400</td>\n",
              "      <td>59400</td>\n",
              "    </tr>\n",
              "    <tr>\n",
              "      <th>unique</th>\n",
              "      <td>1897</td>\n",
              "      <td>2145</td>\n",
              "      <td>19287</td>\n",
              "      <td>2</td>\n",
              "      <td>12</td>\n",
              "      <td>2696</td>\n",
              "      <td>2</td>\n",
              "    </tr>\n",
              "    <tr>\n",
              "      <th>top</th>\n",
              "      <td>Government Of Tanzania</td>\n",
              "      <td>DWE</td>\n",
              "      <td>Madukani</td>\n",
              "      <td>True</td>\n",
              "      <td>VWC</td>\n",
              "      <td>K</td>\n",
              "      <td>True</td>\n",
              "    </tr>\n",
              "    <tr>\n",
              "      <th>freq</th>\n",
              "      <td>12719</td>\n",
              "      <td>21057</td>\n",
              "      <td>879</td>\n",
              "      <td>54345</td>\n",
              "      <td>40670</td>\n",
              "      <td>28848</td>\n",
              "      <td>41908</td>\n",
              "    </tr>\n",
              "  </tbody>\n",
              "</table>\n",
              "</div>"
            ],
            "text/plain": [
              "                        funder installer  ... scheme_name permit\n",
              "count                    59400     59400  ...       59400  59400\n",
              "unique                    1897      2145  ...        2696      2\n",
              "top     Government Of Tanzania       DWE  ...           K   True\n",
              "freq                     12719     21057  ...       28848  41908\n",
              "\n",
              "[4 rows x 7 columns]"
            ]
          },
          "metadata": {},
          "execution_count": 291
        }
      ]
    },
    {
      "cell_type": "code",
      "metadata": {
        "colab": {
          "base_uri": "https://localhost:8080/",
          "height": 173
        },
        "id": "UQinfJu6yx5D",
        "outputId": "3ce0d665-d0a9-4c15-c7ec-28556b375638"
      },
      "source": [
        "test_copy[cols_with_null].describe()"
      ],
      "execution_count": null,
      "outputs": [
        {
          "output_type": "execute_result",
          "data": {
            "text/html": [
              "<div>\n",
              "<style scoped>\n",
              "    .dataframe tbody tr th:only-of-type {\n",
              "        vertical-align: middle;\n",
              "    }\n",
              "\n",
              "    .dataframe tbody tr th {\n",
              "        vertical-align: top;\n",
              "    }\n",
              "\n",
              "    .dataframe thead th {\n",
              "        text-align: right;\n",
              "    }\n",
              "</style>\n",
              "<table border=\"1\" class=\"dataframe\">\n",
              "  <thead>\n",
              "    <tr style=\"text-align: right;\">\n",
              "      <th></th>\n",
              "      <th>funder</th>\n",
              "      <th>installer</th>\n",
              "      <th>subvillage</th>\n",
              "      <th>public_meeting</th>\n",
              "      <th>scheme_management</th>\n",
              "      <th>scheme_name</th>\n",
              "      <th>permit</th>\n",
              "    </tr>\n",
              "  </thead>\n",
              "  <tbody>\n",
              "    <tr>\n",
              "      <th>count</th>\n",
              "      <td>14850</td>\n",
              "      <td>14850</td>\n",
              "      <td>14850</td>\n",
              "      <td>14850</td>\n",
              "      <td>14850</td>\n",
              "      <td>14850</td>\n",
              "      <td>14850</td>\n",
              "    </tr>\n",
              "    <tr>\n",
              "      <th>unique</th>\n",
              "      <td>980</td>\n",
              "      <td>1091</td>\n",
              "      <td>8443</td>\n",
              "      <td>2</td>\n",
              "      <td>11</td>\n",
              "      <td>1789</td>\n",
              "      <td>2</td>\n",
              "    </tr>\n",
              "    <tr>\n",
              "      <th>top</th>\n",
              "      <td>Government Of Tanzania</td>\n",
              "      <td>DWE</td>\n",
              "      <td>Madukani</td>\n",
              "      <td>True</td>\n",
              "      <td>VWC</td>\n",
              "      <td>K</td>\n",
              "      <td>True</td>\n",
              "    </tr>\n",
              "    <tr>\n",
              "      <th>freq</th>\n",
              "      <td>3084</td>\n",
              "      <td>5226</td>\n",
              "      <td>220</td>\n",
              "      <td>13559</td>\n",
              "      <td>10093</td>\n",
              "      <td>7268</td>\n",
              "      <td>10491</td>\n",
              "    </tr>\n",
              "  </tbody>\n",
              "</table>\n",
              "</div>"
            ],
            "text/plain": [
              "                        funder installer  ... scheme_name permit\n",
              "count                    14850     14850  ...       14850  14850\n",
              "unique                     980      1091  ...        1789      2\n",
              "top     Government Of Tanzania       DWE  ...           K   True\n",
              "freq                      3084      5226  ...        7268  10491\n",
              "\n",
              "[4 rows x 7 columns]"
            ]
          },
          "metadata": {},
          "execution_count": 292
        }
      ]
    },
    {
      "cell_type": "markdown",
      "metadata": {
        "id": "YgLpr20Uak6s"
      },
      "source": [
        "All seems good! As a quick check, since `public_meeting` and `permit` are supposed to be `bool` fields, let us make sure now they are so."
      ]
    },
    {
      "cell_type": "code",
      "metadata": {
        "colab": {
          "base_uri": "https://localhost:8080/"
        },
        "id": "nAPrAPN0avlz",
        "outputId": "51816d33-ee52-4ebd-8262-83f2443c20d6"
      },
      "source": [
        "print(\"Train ---\\n\", train_copy[['public_meeting', 'permit']].dtypes, sep=\"\")\n",
        "print(\"\\nTest ---\\n\", test_copy[['public_meeting', 'permit']].dtypes, sep=\"\")"
      ],
      "execution_count": null,
      "outputs": [
        {
          "output_type": "stream",
          "name": "stdout",
          "text": [
            "Train ---\n",
            "public_meeting    bool\n",
            "permit            bool\n",
            "dtype: object\n",
            "\n",
            "Test ---\n",
            "public_meeting    bool\n",
            "permit            bool\n",
            "dtype: object\n"
          ]
        }
      ]
    },
    {
      "cell_type": "markdown",
      "metadata": {
        "id": "rOs4cBKxddGN"
      },
      "source": [
        "Now let us consider about numerical columns whose values being 0 can represent missing values. First, following are the numerical columns."
      ]
    },
    {
      "cell_type": "code",
      "metadata": {
        "colab": {
          "base_uri": "https://localhost:8080/"
        },
        "id": "0AUHFmLIdwVr",
        "outputId": "166e88d8-22f3-4f85-b4cf-934dae677ffd"
      },
      "source": [
        "num_cols = train_copy.select_dtypes(include=['int64', 'float64']).columns\n",
        "train_copy[num_cols].dtypes"
      ],
      "execution_count": null,
      "outputs": [
        {
          "output_type": "execute_result",
          "data": {
            "text/plain": [
              "id                     int64\n",
              "amount_tsh           float64\n",
              "gps_height             int64\n",
              "longitude            float64\n",
              "latitude             float64\n",
              "num_private            int64\n",
              "region_code            int64\n",
              "district_code          int64\n",
              "population             int64\n",
              "construction_year      int64\n",
              "dtype: object"
            ]
          },
          "metadata": {},
          "execution_count": 294
        }
      ]
    },
    {
      "cell_type": "code",
      "metadata": {
        "colab": {
          "base_uri": "https://localhost:8080/",
          "height": 317
        },
        "id": "REQD4g8RedGW",
        "outputId": "c92ed3b8-a716-414e-ab3b-47a3f38dd629"
      },
      "source": [
        "train_copy[num_cols].describe()"
      ],
      "execution_count": null,
      "outputs": [
        {
          "output_type": "execute_result",
          "data": {
            "text/html": [
              "<div>\n",
              "<style scoped>\n",
              "    .dataframe tbody tr th:only-of-type {\n",
              "        vertical-align: middle;\n",
              "    }\n",
              "\n",
              "    .dataframe tbody tr th {\n",
              "        vertical-align: top;\n",
              "    }\n",
              "\n",
              "    .dataframe thead th {\n",
              "        text-align: right;\n",
              "    }\n",
              "</style>\n",
              "<table border=\"1\" class=\"dataframe\">\n",
              "  <thead>\n",
              "    <tr style=\"text-align: right;\">\n",
              "      <th></th>\n",
              "      <th>id</th>\n",
              "      <th>amount_tsh</th>\n",
              "      <th>gps_height</th>\n",
              "      <th>longitude</th>\n",
              "      <th>latitude</th>\n",
              "      <th>num_private</th>\n",
              "      <th>region_code</th>\n",
              "      <th>district_code</th>\n",
              "      <th>population</th>\n",
              "      <th>construction_year</th>\n",
              "    </tr>\n",
              "  </thead>\n",
              "  <tbody>\n",
              "    <tr>\n",
              "      <th>count</th>\n",
              "      <td>59400.000000</td>\n",
              "      <td>59400.000000</td>\n",
              "      <td>59400.000000</td>\n",
              "      <td>59400.000000</td>\n",
              "      <td>5.940000e+04</td>\n",
              "      <td>59400.000000</td>\n",
              "      <td>59400.000000</td>\n",
              "      <td>59400.000000</td>\n",
              "      <td>59400.000000</td>\n",
              "      <td>59400.000000</td>\n",
              "    </tr>\n",
              "    <tr>\n",
              "      <th>mean</th>\n",
              "      <td>37115.131768</td>\n",
              "      <td>317.650385</td>\n",
              "      <td>668.297239</td>\n",
              "      <td>34.077427</td>\n",
              "      <td>-5.706033e+00</td>\n",
              "      <td>0.474141</td>\n",
              "      <td>15.297003</td>\n",
              "      <td>5.629747</td>\n",
              "      <td>179.909983</td>\n",
              "      <td>1300.652475</td>\n",
              "    </tr>\n",
              "    <tr>\n",
              "      <th>std</th>\n",
              "      <td>21453.128371</td>\n",
              "      <td>2997.574558</td>\n",
              "      <td>693.116350</td>\n",
              "      <td>6.567432</td>\n",
              "      <td>2.946019e+00</td>\n",
              "      <td>12.236230</td>\n",
              "      <td>17.587406</td>\n",
              "      <td>9.633649</td>\n",
              "      <td>471.482176</td>\n",
              "      <td>951.620547</td>\n",
              "    </tr>\n",
              "    <tr>\n",
              "      <th>min</th>\n",
              "      <td>0.000000</td>\n",
              "      <td>0.000000</td>\n",
              "      <td>-90.000000</td>\n",
              "      <td>0.000000</td>\n",
              "      <td>-1.164944e+01</td>\n",
              "      <td>0.000000</td>\n",
              "      <td>1.000000</td>\n",
              "      <td>0.000000</td>\n",
              "      <td>0.000000</td>\n",
              "      <td>0.000000</td>\n",
              "    </tr>\n",
              "    <tr>\n",
              "      <th>25%</th>\n",
              "      <td>18519.750000</td>\n",
              "      <td>0.000000</td>\n",
              "      <td>0.000000</td>\n",
              "      <td>33.090347</td>\n",
              "      <td>-8.540621e+00</td>\n",
              "      <td>0.000000</td>\n",
              "      <td>5.000000</td>\n",
              "      <td>2.000000</td>\n",
              "      <td>0.000000</td>\n",
              "      <td>0.000000</td>\n",
              "    </tr>\n",
              "    <tr>\n",
              "      <th>50%</th>\n",
              "      <td>37061.500000</td>\n",
              "      <td>0.000000</td>\n",
              "      <td>369.000000</td>\n",
              "      <td>34.908743</td>\n",
              "      <td>-5.021597e+00</td>\n",
              "      <td>0.000000</td>\n",
              "      <td>12.000000</td>\n",
              "      <td>3.000000</td>\n",
              "      <td>25.000000</td>\n",
              "      <td>1986.000000</td>\n",
              "    </tr>\n",
              "    <tr>\n",
              "      <th>75%</th>\n",
              "      <td>55656.500000</td>\n",
              "      <td>20.000000</td>\n",
              "      <td>1319.250000</td>\n",
              "      <td>37.178387</td>\n",
              "      <td>-3.326156e+00</td>\n",
              "      <td>0.000000</td>\n",
              "      <td>17.000000</td>\n",
              "      <td>5.000000</td>\n",
              "      <td>215.000000</td>\n",
              "      <td>2004.000000</td>\n",
              "    </tr>\n",
              "    <tr>\n",
              "      <th>max</th>\n",
              "      <td>74247.000000</td>\n",
              "      <td>350000.000000</td>\n",
              "      <td>2770.000000</td>\n",
              "      <td>40.345193</td>\n",
              "      <td>-2.000000e-08</td>\n",
              "      <td>1776.000000</td>\n",
              "      <td>99.000000</td>\n",
              "      <td>80.000000</td>\n",
              "      <td>30500.000000</td>\n",
              "      <td>2013.000000</td>\n",
              "    </tr>\n",
              "  </tbody>\n",
              "</table>\n",
              "</div>"
            ],
            "text/plain": [
              "                 id     amount_tsh  ...    population  construction_year\n",
              "count  59400.000000   59400.000000  ...  59400.000000       59400.000000\n",
              "mean   37115.131768     317.650385  ...    179.909983        1300.652475\n",
              "std    21453.128371    2997.574558  ...    471.482176         951.620547\n",
              "min        0.000000       0.000000  ...      0.000000           0.000000\n",
              "25%    18519.750000       0.000000  ...      0.000000           0.000000\n",
              "50%    37061.500000       0.000000  ...     25.000000        1986.000000\n",
              "75%    55656.500000      20.000000  ...    215.000000        2004.000000\n",
              "max    74247.000000  350000.000000  ...  30500.000000        2013.000000\n",
              "\n",
              "[8 rows x 10 columns]"
            ]
          },
          "metadata": {},
          "execution_count": 295
        }
      ]
    },
    {
      "cell_type": "markdown",
      "metadata": {
        "id": "psVku9uVhX92"
      },
      "source": [
        "We can see that the `construction_year` has 0 as minimum value. It is wrong. Let us impute those values with the actual earliest year in the values of `construction_year`. We shall use a different imputer for this purpose."
      ]
    },
    {
      "cell_type": "code",
      "metadata": {
        "colab": {
          "base_uri": "https://localhost:8080/"
        },
        "id": "5SejF3e5hvCm",
        "outputId": "e67b30a9-95ad-40c8-d700-f8098d174daa"
      },
      "source": [
        "# Find the earliest year\n",
        "years = train_copy.construction_year.unique()\n",
        "years.sort()\n",
        "earliest = years[1]\n",
        "\n",
        "# Define the imputer\n",
        "imp_2 = SimpleImputer(missing_values=0, strategy='constant', fill_value=earliest)\n",
        "\n",
        "# Fit and transform on train set\n",
        "train_copy['construction_year'] = imp_2.fit_transform(train_copy['construction_year'].values.reshape(-1,1))\n",
        "\n",
        "# Transform the test set\n",
        "test_copy['construction_year'] = imp_2.transform(test_copy['construction_year'].values.reshape(-1,1))\n",
        "\n",
        "# Check the min value of construction_year now\n",
        "train_copy.construction_year.unique().min(), test_copy.construction_year.unique().min()"
      ],
      "execution_count": null,
      "outputs": [
        {
          "output_type": "execute_result",
          "data": {
            "text/plain": [
              "(1960, 1960)"
            ]
          },
          "metadata": {},
          "execution_count": 296
        }
      ]
    },
    {
      "cell_type": "markdown",
      "metadata": {
        "id": "56Qb_HPtkOv4"
      },
      "source": [
        "The 0 values in `amount_tsh` and `gps_height` could mean valid information. Even though `district_code` has values of 0, we do not impute them with anything because those are 'codes'. And, although `population` has 0 values, we can see that 25% of values of `population` are 0; hence 0 values should not be incorrect. Therefore, we shall leave these columns untouched."
      ]
    },
    {
      "cell_type": "markdown",
      "metadata": {
        "id": "72Dfgi16pFNv"
      },
      "source": [
        "So, we are left to deal with `longitude` and `latitude`. According to GPS coordinates of the country of Tanzania (checked from Google Maps), longitude values must be between (29, 41) and latitude values must be between (-12, -1). \n",
        "\n",
        "Referring to statistics of our training dataset, although the latitude values seem to be admissible, we can see that the minimum longitude value present in our dataset is 0, which should definitely be wrong (probably the corresponding latitude values too). \n",
        "\n",
        "So, let us impute the `longitude` and `latitude` values in each record whose `longitude` is below 29, with the **corresnpoding mean value of `longitude` and `latitude` when grouped by `region_code`**."
      ]
    },
    {
      "cell_type": "markdown",
      "metadata": {
        "id": "mhxXFO44C20d"
      },
      "source": [
        "First, let us nullify the `longitude` and `latitude` values in such records."
      ]
    },
    {
      "cell_type": "code",
      "metadata": {
        "id": "I62MV8whC-iH"
      },
      "source": [
        "# Disable SettingWithCopyWarning temporarily\n",
        "pd.options.mode.chained_assignment = None\n",
        "\n",
        "minLon = 29\n",
        "\n",
        "wrong_longitudes = train_copy[train_copy['longitude'] < minLon]\n",
        "\n",
        "wrong_longitudes.loc[:, 'longitude'] = np.nan\n",
        "wrong_longitudes.loc[:, 'latitude'] = np.nan\n",
        "\n",
        "train_copy[train_copy['longitude'] < minLon] = wrong_longitudes\n",
        "\n",
        "# Doing the same in the test set\n",
        "wrong_longitudes = test_copy[test_copy['longitude'] < minLon]\n",
        "\n",
        "wrong_longitudes.loc[:, 'longitude'] = np.nan\n",
        "wrong_longitudes.loc[:, 'latitude'] = np.nan\n",
        "\n",
        "test_copy[test_copy['longitude'] < minLon] = wrong_longitudes\n",
        "\n",
        "# Enable SettingWithCopyWarning back\n",
        "pd.options.mode.chained_assignment = 'warn'"
      ],
      "execution_count": null,
      "outputs": []
    },
    {
      "cell_type": "markdown",
      "metadata": {
        "id": "f9RVD2Bi4ydL"
      },
      "source": [
        "Now let us find the mean `longitude` and `latitude` values in the train set grouped by `region_code`."
      ]
    },
    {
      "cell_type": "code",
      "metadata": {
        "id": "z9JwZgim5BhW"
      },
      "source": [
        "lon_means = train_copy.groupby('region_code')['longitude'].mean()\n",
        "lat_means = train_copy.groupby('region_code')['latitude'].mean()"
      ],
      "execution_count": null,
      "outputs": []
    },
    {
      "cell_type": "markdown",
      "metadata": {
        "id": "GZiMvZMCK3f-"
      },
      "source": [
        "Now let us impute the null values we made, with the mean `longitude` and `latitude` values in the corresponding `region_code` group. For this, instead of using an Imputer, we need to loop through all the records for each value of `region_code`.\n",
        "\n",
        "Also, we shall combine train and test sets to make the process easier."
      ]
    },
    {
      "cell_type": "code",
      "metadata": {
        "colab": {
          "base_uri": "https://localhost:8080/"
        },
        "id": "gisr6Qo-pu7h",
        "outputId": "fd3dc951-89ec-48df-9dab-29b6d6fa064c"
      },
      "source": [
        "comb_copy = train_copy.append(test_copy)\n",
        "\n",
        "region_codes = comb_copy['region_code'].unique()\n",
        "\n",
        "# Check whether there are additional region_code values\n",
        "(lon_means.shape == region_codes.shape) and (lat_means.shape == region_codes.shape)"
      ],
      "execution_count": null,
      "outputs": [
        {
          "output_type": "execute_result",
          "data": {
            "text/plain": [
              "True"
            ]
          },
          "metadata": {},
          "execution_count": 299
        }
      ]
    },
    {
      "cell_type": "markdown",
      "metadata": {
        "id": "Wzkp9WwKmnYi"
      },
      "source": [
        "`True` above means that the train set captures all the unique `region_code` values. Therefore, we have all the corresponding mean values. Now, let us do the imputations."
      ]
    },
    {
      "cell_type": "code",
      "metadata": {
        "colab": {
          "base_uri": "https://localhost:8080/",
          "height": 317
        },
        "id": "hSAWHJFciYzo",
        "outputId": "519ac76e-91d3-45bb-fd1e-ebd066d23088"
      },
      "source": [
        "for code in region_codes.tolist():\n",
        "  comb_copy.loc[(comb_copy['region_code'] == code) & comb_copy['longitude'].isnull(), 'longitude'] = lon_means[code]\n",
        "  comb_copy.loc[(comb_copy['region_code'] == code) & comb_copy['latitude'].isnull(), 'latitude'] = lat_means[code]\n",
        "\n",
        "comb_copy.describe()"
      ],
      "execution_count": null,
      "outputs": [
        {
          "output_type": "execute_result",
          "data": {
            "text/html": [
              "<div>\n",
              "<style scoped>\n",
              "    .dataframe tbody tr th:only-of-type {\n",
              "        vertical-align: middle;\n",
              "    }\n",
              "\n",
              "    .dataframe tbody tr th {\n",
              "        vertical-align: top;\n",
              "    }\n",
              "\n",
              "    .dataframe thead th {\n",
              "        text-align: right;\n",
              "    }\n",
              "</style>\n",
              "<table border=\"1\" class=\"dataframe\">\n",
              "  <thead>\n",
              "    <tr style=\"text-align: right;\">\n",
              "      <th></th>\n",
              "      <th>id</th>\n",
              "      <th>amount_tsh</th>\n",
              "      <th>gps_height</th>\n",
              "      <th>longitude</th>\n",
              "      <th>latitude</th>\n",
              "      <th>num_private</th>\n",
              "      <th>region_code</th>\n",
              "      <th>district_code</th>\n",
              "      <th>population</th>\n",
              "      <th>construction_year</th>\n",
              "    </tr>\n",
              "  </thead>\n",
              "  <tbody>\n",
              "    <tr>\n",
              "      <th>count</th>\n",
              "      <td>74250.000000</td>\n",
              "      <td>74250.000000</td>\n",
              "      <td>74250.000000</td>\n",
              "      <td>74250.000000</td>\n",
              "      <td>74250.000000</td>\n",
              "      <td>74250.000000</td>\n",
              "      <td>74250.000000</td>\n",
              "      <td>74250.000000</td>\n",
              "      <td>74250.000000</td>\n",
              "      <td>74250.000000</td>\n",
              "    </tr>\n",
              "    <tr>\n",
              "      <th>mean</th>\n",
              "      <td>37124.500000</td>\n",
              "      <td>318.685704</td>\n",
              "      <td>665.667313</td>\n",
              "      <td>35.088364</td>\n",
              "      <td>-5.797828</td>\n",
              "      <td>0.462330</td>\n",
              "      <td>15.265414</td>\n",
              "      <td>5.629077</td>\n",
              "      <td>180.750828</td>\n",
              "      <td>1983.975300</td>\n",
              "    </tr>\n",
              "    <tr>\n",
              "      <th>std</th>\n",
              "      <td>21434.273081</td>\n",
              "      <td>2906.762364</td>\n",
              "      <td>692.761033</td>\n",
              "      <td>2.590953</td>\n",
              "      <td>2.806779</td>\n",
              "      <td>11.537879</td>\n",
              "      <td>17.508907</td>\n",
              "      <td>9.641636</td>\n",
              "      <td>471.086120</td>\n",
              "      <td>20.243943</td>\n",
              "    </tr>\n",
              "    <tr>\n",
              "      <th>min</th>\n",
              "      <td>0.000000</td>\n",
              "      <td>0.000000</td>\n",
              "      <td>-90.000000</td>\n",
              "      <td>29.607122</td>\n",
              "      <td>-11.649440</td>\n",
              "      <td>0.000000</td>\n",
              "      <td>1.000000</td>\n",
              "      <td>0.000000</td>\n",
              "      <td>0.000000</td>\n",
              "      <td>1960.000000</td>\n",
              "    </tr>\n",
              "    <tr>\n",
              "      <th>25%</th>\n",
              "      <td>18562.250000</td>\n",
              "      <td>0.000000</td>\n",
              "      <td>0.000000</td>\n",
              "      <td>33.234470</td>\n",
              "      <td>-8.526075</td>\n",
              "      <td>0.000000</td>\n",
              "      <td>5.000000</td>\n",
              "      <td>2.000000</td>\n",
              "      <td>0.000000</td>\n",
              "      <td>1960.000000</td>\n",
              "    </tr>\n",
              "    <tr>\n",
              "      <th>50%</th>\n",
              "      <td>37124.500000</td>\n",
              "      <td>0.000000</td>\n",
              "      <td>364.000000</td>\n",
              "      <td>34.907475</td>\n",
              "      <td>-5.026709</td>\n",
              "      <td>0.000000</td>\n",
              "      <td>12.000000</td>\n",
              "      <td>3.000000</td>\n",
              "      <td>25.000000</td>\n",
              "      <td>1986.000000</td>\n",
              "    </tr>\n",
              "    <tr>\n",
              "      <th>75%</th>\n",
              "      <td>55686.750000</td>\n",
              "      <td>20.000000</td>\n",
              "      <td>1317.000000</td>\n",
              "      <td>37.181685</td>\n",
              "      <td>-3.358985</td>\n",
              "      <td>0.000000</td>\n",
              "      <td>17.000000</td>\n",
              "      <td>5.000000</td>\n",
              "      <td>215.000000</td>\n",
              "      <td>2004.000000</td>\n",
              "    </tr>\n",
              "    <tr>\n",
              "      <th>max</th>\n",
              "      <td>74249.000000</td>\n",
              "      <td>350000.000000</td>\n",
              "      <td>2777.000000</td>\n",
              "      <td>40.345193</td>\n",
              "      <td>-0.998464</td>\n",
              "      <td>1776.000000</td>\n",
              "      <td>99.000000</td>\n",
              "      <td>80.000000</td>\n",
              "      <td>30500.000000</td>\n",
              "      <td>2013.000000</td>\n",
              "    </tr>\n",
              "  </tbody>\n",
              "</table>\n",
              "</div>"
            ],
            "text/plain": [
              "                 id     amount_tsh  ...    population  construction_year\n",
              "count  74250.000000   74250.000000  ...  74250.000000       74250.000000\n",
              "mean   37124.500000     318.685704  ...    180.750828        1983.975300\n",
              "std    21434.273081    2906.762364  ...    471.086120          20.243943\n",
              "min        0.000000       0.000000  ...      0.000000        1960.000000\n",
              "25%    18562.250000       0.000000  ...      0.000000        1960.000000\n",
              "50%    37124.500000       0.000000  ...     25.000000        1986.000000\n",
              "75%    55686.750000      20.000000  ...    215.000000        2004.000000\n",
              "max    74249.000000  350000.000000  ...  30500.000000        2013.000000\n",
              "\n",
              "[8 rows x 10 columns]"
            ]
          },
          "metadata": {},
          "execution_count": 300
        }
      ]
    },
    {
      "cell_type": "markdown",
      "metadata": {
        "id": "SoHQsRq3xeyw"
      },
      "source": [
        "# Part 4: Feature Engineering"
      ]
    },
    {
      "cell_type": "markdown",
      "metadata": {
        "id": "s-3aohdXxkTB"
      },
      "source": [
        "Now that we have all missing values in our dataset properly treated, it is time to consider Feature Engineering."
      ]
    },
    {
      "cell_type": "markdown",
      "metadata": {
        "id": "qWrX-90ZnxSc"
      },
      "source": [
        "We shall continue to use the combined set for few steps further."
      ]
    },
    {
      "cell_type": "markdown",
      "metadata": {
        "id": "3y9npS7Jxy9H"
      },
      "source": [
        "Since there are `construction_year` and `date_recorded` as features, we can create a new feature called `age` to represent how old is the waterpoint."
      ]
    },
    {
      "cell_type": "markdown",
      "metadata": {
        "id": "982ZbQ8Dn-nC"
      },
      "source": [
        "However, before creating that feature, let us make sure that there are no records whose `date_recorded` is before `construction_year`, becuase otherwise `age` would be negative!"
      ]
    },
    {
      "cell_type": "code",
      "metadata": {
        "colab": {
          "base_uri": "https://localhost:8080/",
          "height": 317
        },
        "id": "fHmOQXAoosOK",
        "outputId": "6601339e-cd88-4bc2-e936-5ba371bdb55a"
      },
      "source": [
        "comb_copy[pd.to_datetime(comb_copy['date_recorded']).dt.year < comb_copy['construction_year']].describe()"
      ],
      "execution_count": null,
      "outputs": [
        {
          "output_type": "execute_result",
          "data": {
            "text/html": [
              "<div>\n",
              "<style scoped>\n",
              "    .dataframe tbody tr th:only-of-type {\n",
              "        vertical-align: middle;\n",
              "    }\n",
              "\n",
              "    .dataframe tbody tr th {\n",
              "        vertical-align: top;\n",
              "    }\n",
              "\n",
              "    .dataframe thead th {\n",
              "        text-align: right;\n",
              "    }\n",
              "</style>\n",
              "<table border=\"1\" class=\"dataframe\">\n",
              "  <thead>\n",
              "    <tr style=\"text-align: right;\">\n",
              "      <th></th>\n",
              "      <th>id</th>\n",
              "      <th>amount_tsh</th>\n",
              "      <th>gps_height</th>\n",
              "      <th>longitude</th>\n",
              "      <th>latitude</th>\n",
              "      <th>num_private</th>\n",
              "      <th>region_code</th>\n",
              "      <th>district_code</th>\n",
              "      <th>population</th>\n",
              "      <th>construction_year</th>\n",
              "    </tr>\n",
              "  </thead>\n",
              "  <tbody>\n",
              "    <tr>\n",
              "      <th>count</th>\n",
              "      <td>12.000000</td>\n",
              "      <td>12.000000</td>\n",
              "      <td>12.000000</td>\n",
              "      <td>12.000000</td>\n",
              "      <td>12.000000</td>\n",
              "      <td>12.0</td>\n",
              "      <td>12.000000</td>\n",
              "      <td>12.000000</td>\n",
              "      <td>12.000000</td>\n",
              "      <td>12.000000</td>\n",
              "    </tr>\n",
              "    <tr>\n",
              "      <th>mean</th>\n",
              "      <td>20636.666667</td>\n",
              "      <td>55.833333</td>\n",
              "      <td>724.416667</td>\n",
              "      <td>37.176256</td>\n",
              "      <td>-6.238565</td>\n",
              "      <td>0.0</td>\n",
              "      <td>29.416667</td>\n",
              "      <td>13.916667</td>\n",
              "      <td>332.166667</td>\n",
              "      <td>2008.083333</td>\n",
              "    </tr>\n",
              "    <tr>\n",
              "      <th>std</th>\n",
              "      <td>20181.262828</td>\n",
              "      <td>143.175565</td>\n",
              "      <td>692.052213</td>\n",
              "      <td>2.649113</td>\n",
              "      <td>2.775899</td>\n",
              "      <td>0.0</td>\n",
              "      <td>29.754933</td>\n",
              "      <td>16.172133</td>\n",
              "      <td>330.826193</td>\n",
              "      <td>1.880925</td>\n",
              "    </tr>\n",
              "    <tr>\n",
              "      <th>min</th>\n",
              "      <td>1084.000000</td>\n",
              "      <td>0.000000</td>\n",
              "      <td>-27.000000</td>\n",
              "      <td>31.539761</td>\n",
              "      <td>-11.019000</td>\n",
              "      <td>0.0</td>\n",
              "      <td>3.000000</td>\n",
              "      <td>2.000000</td>\n",
              "      <td>1.000000</td>\n",
              "      <td>2005.000000</td>\n",
              "    </tr>\n",
              "    <tr>\n",
              "      <th>25%</th>\n",
              "      <td>5777.500000</td>\n",
              "      <td>0.000000</td>\n",
              "      <td>202.500000</td>\n",
              "      <td>34.779985</td>\n",
              "      <td>-7.562915</td>\n",
              "      <td>0.0</td>\n",
              "      <td>5.500000</td>\n",
              "      <td>2.750000</td>\n",
              "      <td>76.250000</td>\n",
              "      <td>2006.750000</td>\n",
              "    </tr>\n",
              "    <tr>\n",
              "      <th>50%</th>\n",
              "      <td>13648.000000</td>\n",
              "      <td>0.000000</td>\n",
              "      <td>304.000000</td>\n",
              "      <td>38.663538</td>\n",
              "      <td>-7.105321</td>\n",
              "      <td>0.0</td>\n",
              "      <td>17.500000</td>\n",
              "      <td>4.000000</td>\n",
              "      <td>192.500000</td>\n",
              "      <td>2008.000000</td>\n",
              "    </tr>\n",
              "    <tr>\n",
              "      <th>75%</th>\n",
              "      <td>27590.250000</td>\n",
              "      <td>27.500000</td>\n",
              "      <td>1335.000000</td>\n",
              "      <td>39.021610</td>\n",
              "      <td>-4.951056</td>\n",
              "      <td>0.0</td>\n",
              "      <td>60.000000</td>\n",
              "      <td>33.000000</td>\n",
              "      <td>513.500000</td>\n",
              "      <td>2009.000000</td>\n",
              "    </tr>\n",
              "    <tr>\n",
              "      <th>max</th>\n",
              "      <td>55069.000000</td>\n",
              "      <td>500.000000</td>\n",
              "      <td>1856.000000</td>\n",
              "      <td>39.283105</td>\n",
              "      <td>-1.584642</td>\n",
              "      <td>0.0</td>\n",
              "      <td>90.000000</td>\n",
              "      <td>43.000000</td>\n",
              "      <td>900.000000</td>\n",
              "      <td>2011.000000</td>\n",
              "    </tr>\n",
              "  </tbody>\n",
              "</table>\n",
              "</div>"
            ],
            "text/plain": [
              "                 id  amount_tsh  ...  population  construction_year\n",
              "count     12.000000   12.000000  ...   12.000000          12.000000\n",
              "mean   20636.666667   55.833333  ...  332.166667        2008.083333\n",
              "std    20181.262828  143.175565  ...  330.826193           1.880925\n",
              "min     1084.000000    0.000000  ...    1.000000        2005.000000\n",
              "25%     5777.500000    0.000000  ...   76.250000        2006.750000\n",
              "50%    13648.000000    0.000000  ...  192.500000        2008.000000\n",
              "75%    27590.250000   27.500000  ...  513.500000        2009.000000\n",
              "max    55069.000000  500.000000  ...  900.000000        2011.000000\n",
              "\n",
              "[8 rows x 10 columns]"
            ]
          },
          "metadata": {},
          "execution_count": 301
        }
      ]
    },
    {
      "cell_type": "markdown",
      "metadata": {
        "id": "b9dvEhGCpUSg"
      },
      "source": [
        "Uh-oh! It looks like we have got such cases. However, Since there are only 12 out of 74250 records, the impact is really small. Therefore, as a remedy, let us modify the `date_recorded` in the above records to the latest value in `date_recorded` in the train set."
      ]
    },
    {
      "cell_type": "code",
      "metadata": {
        "colab": {
          "base_uri": "https://localhost:8080/"
        },
        "id": "ztOrFcbHpkZB",
        "outputId": "ac4b7971-1a9c-4d9d-9c1e-0dbcacba9a0e"
      },
      "source": [
        "# Getting the latest date_recorded\n",
        "dates = train_copy['date_recorded'].unique()\n",
        "dates.sort()\n",
        "latest = dates[-1]\n",
        "print(f\" Latest date_recorded: {latest}\")\n",
        "\n",
        "# Replacing the above records\n",
        "comb_copy.loc[pd.to_datetime(comb_copy['date_recorded']).dt.year < comb_copy['construction_year'], 'date_recorded'] = latest\n",
        "\n",
        "comb_copy[pd.to_datetime(comb_copy['date_recorded']).dt.year < comb_copy['construction_year']].shape"
      ],
      "execution_count": null,
      "outputs": [
        {
          "output_type": "stream",
          "name": "stdout",
          "text": [
            " Latest date_recorded: 2013-12-03\n"
          ]
        },
        {
          "output_type": "execute_result",
          "data": {
            "text/plain": [
              "(0, 40)"
            ]
          },
          "metadata": {},
          "execution_count": 302
        }
      ]
    },
    {
      "cell_type": "markdown",
      "metadata": {
        "id": "nikvIGKlqrYD"
      },
      "source": [
        "Now, we are safe to create the `age` feature."
      ]
    },
    {
      "cell_type": "code",
      "metadata": {
        "colab": {
          "base_uri": "https://localhost:8080/",
          "height": 317
        },
        "id": "kIi--eUGy8sp",
        "outputId": "0ce382a1-e6a2-40f4-c61b-1def778bdde8"
      },
      "source": [
        "if 'age' not in comb_copy.columns:\n",
        "  comb_copy['age'] = comb_copy.date_recorded.apply(pd.to_datetime) - comb_copy.construction_year.apply(lambda x: pd.to_datetime(x, format='%Y'))\n",
        "\n",
        "  # Divide the age by number of nanoseconds per year, to normalize\n",
        "  nanoSecondsPerYear = 365.25*24*60*60*1e9\n",
        "  comb_copy['age'] = comb_copy.age.apply(lambda t: t.delta/nanoSecondsPerYear)\n",
        "\n",
        "comb_copy.describe()"
      ],
      "execution_count": null,
      "outputs": [
        {
          "output_type": "execute_result",
          "data": {
            "text/html": [
              "<div>\n",
              "<style scoped>\n",
              "    .dataframe tbody tr th:only-of-type {\n",
              "        vertical-align: middle;\n",
              "    }\n",
              "\n",
              "    .dataframe tbody tr th {\n",
              "        vertical-align: top;\n",
              "    }\n",
              "\n",
              "    .dataframe thead th {\n",
              "        text-align: right;\n",
              "    }\n",
              "</style>\n",
              "<table border=\"1\" class=\"dataframe\">\n",
              "  <thead>\n",
              "    <tr style=\"text-align: right;\">\n",
              "      <th></th>\n",
              "      <th>id</th>\n",
              "      <th>amount_tsh</th>\n",
              "      <th>gps_height</th>\n",
              "      <th>longitude</th>\n",
              "      <th>latitude</th>\n",
              "      <th>num_private</th>\n",
              "      <th>region_code</th>\n",
              "      <th>district_code</th>\n",
              "      <th>population</th>\n",
              "      <th>construction_year</th>\n",
              "      <th>age</th>\n",
              "    </tr>\n",
              "  </thead>\n",
              "  <tbody>\n",
              "    <tr>\n",
              "      <th>count</th>\n",
              "      <td>74250.000000</td>\n",
              "      <td>74250.000000</td>\n",
              "      <td>74250.000000</td>\n",
              "      <td>74250.000000</td>\n",
              "      <td>74250.000000</td>\n",
              "      <td>74250.000000</td>\n",
              "      <td>74250.000000</td>\n",
              "      <td>74250.000000</td>\n",
              "      <td>74250.000000</td>\n",
              "      <td>74250.000000</td>\n",
              "      <td>74250.000000</td>\n",
              "    </tr>\n",
              "    <tr>\n",
              "      <th>mean</th>\n",
              "      <td>37124.500000</td>\n",
              "      <td>318.685704</td>\n",
              "      <td>665.667313</td>\n",
              "      <td>35.088364</td>\n",
              "      <td>-5.797828</td>\n",
              "      <td>0.462330</td>\n",
              "      <td>15.265414</td>\n",
              "      <td>5.629077</td>\n",
              "      <td>180.750828</td>\n",
              "      <td>1983.975300</td>\n",
              "      <td>28.264956</td>\n",
              "    </tr>\n",
              "    <tr>\n",
              "      <th>std</th>\n",
              "      <td>21434.273081</td>\n",
              "      <td>2906.762364</td>\n",
              "      <td>692.761033</td>\n",
              "      <td>2.590953</td>\n",
              "      <td>2.806779</td>\n",
              "      <td>11.537879</td>\n",
              "      <td>17.508907</td>\n",
              "      <td>9.641636</td>\n",
              "      <td>471.086120</td>\n",
              "      <td>20.243943</td>\n",
              "      <td>20.071583</td>\n",
              "    </tr>\n",
              "    <tr>\n",
              "      <th>min</th>\n",
              "      <td>0.000000</td>\n",
              "      <td>0.000000</td>\n",
              "      <td>-90.000000</td>\n",
              "      <td>29.607122</td>\n",
              "      <td>-11.649440</td>\n",
              "      <td>0.000000</td>\n",
              "      <td>1.000000</td>\n",
              "      <td>0.000000</td>\n",
              "      <td>0.000000</td>\n",
              "      <td>1960.000000</td>\n",
              "      <td>0.005476</td>\n",
              "    </tr>\n",
              "    <tr>\n",
              "      <th>25%</th>\n",
              "      <td>18562.250000</td>\n",
              "      <td>0.000000</td>\n",
              "      <td>0.000000</td>\n",
              "      <td>33.234470</td>\n",
              "      <td>-8.526075</td>\n",
              "      <td>0.000000</td>\n",
              "      <td>5.000000</td>\n",
              "      <td>2.000000</td>\n",
              "      <td>0.000000</td>\n",
              "      <td>1960.000000</td>\n",
              "      <td>8.147844</td>\n",
              "    </tr>\n",
              "    <tr>\n",
              "      <th>50%</th>\n",
              "      <td>37124.500000</td>\n",
              "      <td>0.000000</td>\n",
              "      <td>364.000000</td>\n",
              "      <td>34.907475</td>\n",
              "      <td>-5.026709</td>\n",
              "      <td>0.000000</td>\n",
              "      <td>12.000000</td>\n",
              "      <td>3.000000</td>\n",
              "      <td>25.000000</td>\n",
              "      <td>1986.000000</td>\n",
              "      <td>26.190281</td>\n",
              "    </tr>\n",
              "    <tr>\n",
              "      <th>75%</th>\n",
              "      <td>55686.750000</td>\n",
              "      <td>20.000000</td>\n",
              "      <td>1317.000000</td>\n",
              "      <td>37.181685</td>\n",
              "      <td>-3.358985</td>\n",
              "      <td>0.000000</td>\n",
              "      <td>17.000000</td>\n",
              "      <td>5.000000</td>\n",
              "      <td>215.000000</td>\n",
              "      <td>2004.000000</td>\n",
              "      <td>51.518138</td>\n",
              "    </tr>\n",
              "    <tr>\n",
              "      <th>max</th>\n",
              "      <td>74249.000000</td>\n",
              "      <td>350000.000000</td>\n",
              "      <td>2777.000000</td>\n",
              "      <td>40.345193</td>\n",
              "      <td>-0.998464</td>\n",
              "      <td>1776.000000</td>\n",
              "      <td>99.000000</td>\n",
              "      <td>80.000000</td>\n",
              "      <td>30500.000000</td>\n",
              "      <td>2013.000000</td>\n",
              "      <td>53.921971</td>\n",
              "    </tr>\n",
              "  </tbody>\n",
              "</table>\n",
              "</div>"
            ],
            "text/plain": [
              "                 id     amount_tsh  ...  construction_year           age\n",
              "count  74250.000000   74250.000000  ...       74250.000000  74250.000000\n",
              "mean   37124.500000     318.685704  ...        1983.975300     28.264956\n",
              "std    21434.273081    2906.762364  ...          20.243943     20.071583\n",
              "min        0.000000       0.000000  ...        1960.000000      0.005476\n",
              "25%    18562.250000       0.000000  ...        1960.000000      8.147844\n",
              "50%    37124.500000       0.000000  ...        1986.000000     26.190281\n",
              "75%    55686.750000      20.000000  ...        2004.000000     51.518138\n",
              "max    74249.000000  350000.000000  ...        2013.000000     53.921971\n",
              "\n",
              "[8 rows x 11 columns]"
            ]
          },
          "metadata": {},
          "execution_count": 303
        }
      ]
    },
    {
      "cell_type": "markdown",
      "metadata": {
        "id": "mitP7sLeF112"
      },
      "source": [
        "As two other features, let as have `year_recorded` and `month_recorded` as separate features, created using `date_recorded`. "
      ]
    },
    {
      "cell_type": "code",
      "metadata": {
        "colab": {
          "base_uri": "https://localhost:8080/",
          "height": 411
        },
        "id": "w9uXieesGF97",
        "outputId": "18822a33-5fa6-41d3-d0f5-da6776faac6b"
      },
      "source": [
        "comb_copy['year_recorded'] = pd.to_datetime(comb_copy.date_recorded).dt.year\n",
        "comb_copy['month_recorded'] = pd.to_datetime(comb_copy.date_recorded).dt.month\n",
        "\n",
        "comb_copy.head()"
      ],
      "execution_count": null,
      "outputs": [
        {
          "output_type": "execute_result",
          "data": {
            "text/html": [
              "<div>\n",
              "<style scoped>\n",
              "    .dataframe tbody tr th:only-of-type {\n",
              "        vertical-align: middle;\n",
              "    }\n",
              "\n",
              "    .dataframe tbody tr th {\n",
              "        vertical-align: top;\n",
              "    }\n",
              "\n",
              "    .dataframe thead th {\n",
              "        text-align: right;\n",
              "    }\n",
              "</style>\n",
              "<table border=\"1\" class=\"dataframe\">\n",
              "  <thead>\n",
              "    <tr style=\"text-align: right;\">\n",
              "      <th></th>\n",
              "      <th>id</th>\n",
              "      <th>amount_tsh</th>\n",
              "      <th>date_recorded</th>\n",
              "      <th>funder</th>\n",
              "      <th>gps_height</th>\n",
              "      <th>installer</th>\n",
              "      <th>longitude</th>\n",
              "      <th>latitude</th>\n",
              "      <th>wpt_name</th>\n",
              "      <th>num_private</th>\n",
              "      <th>basin</th>\n",
              "      <th>subvillage</th>\n",
              "      <th>region</th>\n",
              "      <th>region_code</th>\n",
              "      <th>district_code</th>\n",
              "      <th>lga</th>\n",
              "      <th>ward</th>\n",
              "      <th>population</th>\n",
              "      <th>public_meeting</th>\n",
              "      <th>recorded_by</th>\n",
              "      <th>scheme_management</th>\n",
              "      <th>scheme_name</th>\n",
              "      <th>permit</th>\n",
              "      <th>construction_year</th>\n",
              "      <th>extraction_type</th>\n",
              "      <th>extraction_type_group</th>\n",
              "      <th>extraction_type_class</th>\n",
              "      <th>management</th>\n",
              "      <th>management_group</th>\n",
              "      <th>payment</th>\n",
              "      <th>payment_type</th>\n",
              "      <th>water_quality</th>\n",
              "      <th>quality_group</th>\n",
              "      <th>quantity</th>\n",
              "      <th>quantity_group</th>\n",
              "      <th>source</th>\n",
              "      <th>source_type</th>\n",
              "      <th>source_class</th>\n",
              "      <th>waterpoint_type</th>\n",
              "      <th>waterpoint_type_group</th>\n",
              "      <th>age</th>\n",
              "      <th>year_recorded</th>\n",
              "      <th>month_recorded</th>\n",
              "    </tr>\n",
              "  </thead>\n",
              "  <tbody>\n",
              "    <tr>\n",
              "      <th>0</th>\n",
              "      <td>69572</td>\n",
              "      <td>6000.0</td>\n",
              "      <td>2011-03-14</td>\n",
              "      <td>Roman</td>\n",
              "      <td>1390</td>\n",
              "      <td>Roman</td>\n",
              "      <td>34.938093</td>\n",
              "      <td>-9.856322</td>\n",
              "      <td>none</td>\n",
              "      <td>0</td>\n",
              "      <td>Lake Nyasa</td>\n",
              "      <td>Mnyusi B</td>\n",
              "      <td>Iringa</td>\n",
              "      <td>11</td>\n",
              "      <td>5</td>\n",
              "      <td>Ludewa</td>\n",
              "      <td>Mundindi</td>\n",
              "      <td>109</td>\n",
              "      <td>True</td>\n",
              "      <td>GeoData Consultants Ltd</td>\n",
              "      <td>VWC</td>\n",
              "      <td>Roman</td>\n",
              "      <td>False</td>\n",
              "      <td>1999</td>\n",
              "      <td>gravity</td>\n",
              "      <td>gravity</td>\n",
              "      <td>gravity</td>\n",
              "      <td>vwc</td>\n",
              "      <td>user-group</td>\n",
              "      <td>pay annually</td>\n",
              "      <td>annually</td>\n",
              "      <td>soft</td>\n",
              "      <td>good</td>\n",
              "      <td>enough</td>\n",
              "      <td>enough</td>\n",
              "      <td>spring</td>\n",
              "      <td>spring</td>\n",
              "      <td>groundwater</td>\n",
              "      <td>communal standpipe</td>\n",
              "      <td>communal standpipe</td>\n",
              "      <td>12.197125</td>\n",
              "      <td>2011</td>\n",
              "      <td>3</td>\n",
              "    </tr>\n",
              "    <tr>\n",
              "      <th>1</th>\n",
              "      <td>8776</td>\n",
              "      <td>0.0</td>\n",
              "      <td>2013-03-06</td>\n",
              "      <td>Grumeti</td>\n",
              "      <td>1399</td>\n",
              "      <td>GRUMETI</td>\n",
              "      <td>34.698766</td>\n",
              "      <td>-2.147466</td>\n",
              "      <td>Zahanati</td>\n",
              "      <td>0</td>\n",
              "      <td>Lake Victoria</td>\n",
              "      <td>Nyamara</td>\n",
              "      <td>Mara</td>\n",
              "      <td>20</td>\n",
              "      <td>2</td>\n",
              "      <td>Serengeti</td>\n",
              "      <td>Natta</td>\n",
              "      <td>280</td>\n",
              "      <td>True</td>\n",
              "      <td>GeoData Consultants Ltd</td>\n",
              "      <td>Other</td>\n",
              "      <td>K</td>\n",
              "      <td>True</td>\n",
              "      <td>2010</td>\n",
              "      <td>gravity</td>\n",
              "      <td>gravity</td>\n",
              "      <td>gravity</td>\n",
              "      <td>wug</td>\n",
              "      <td>user-group</td>\n",
              "      <td>never pay</td>\n",
              "      <td>never pay</td>\n",
              "      <td>soft</td>\n",
              "      <td>good</td>\n",
              "      <td>insufficient</td>\n",
              "      <td>insufficient</td>\n",
              "      <td>rainwater harvesting</td>\n",
              "      <td>rainwater harvesting</td>\n",
              "      <td>surface</td>\n",
              "      <td>communal standpipe</td>\n",
              "      <td>communal standpipe</td>\n",
              "      <td>3.175907</td>\n",
              "      <td>2013</td>\n",
              "      <td>3</td>\n",
              "    </tr>\n",
              "    <tr>\n",
              "      <th>2</th>\n",
              "      <td>34310</td>\n",
              "      <td>25.0</td>\n",
              "      <td>2013-02-25</td>\n",
              "      <td>Lottery Club</td>\n",
              "      <td>686</td>\n",
              "      <td>World vision</td>\n",
              "      <td>37.460664</td>\n",
              "      <td>-3.821329</td>\n",
              "      <td>Kwa Mahundi</td>\n",
              "      <td>0</td>\n",
              "      <td>Pangani</td>\n",
              "      <td>Majengo</td>\n",
              "      <td>Manyara</td>\n",
              "      <td>21</td>\n",
              "      <td>4</td>\n",
              "      <td>Simanjiro</td>\n",
              "      <td>Ngorika</td>\n",
              "      <td>250</td>\n",
              "      <td>True</td>\n",
              "      <td>GeoData Consultants Ltd</td>\n",
              "      <td>VWC</td>\n",
              "      <td>Nyumba ya mungu pipe scheme</td>\n",
              "      <td>True</td>\n",
              "      <td>2009</td>\n",
              "      <td>gravity</td>\n",
              "      <td>gravity</td>\n",
              "      <td>gravity</td>\n",
              "      <td>vwc</td>\n",
              "      <td>user-group</td>\n",
              "      <td>pay per bucket</td>\n",
              "      <td>per bucket</td>\n",
              "      <td>soft</td>\n",
              "      <td>good</td>\n",
              "      <td>enough</td>\n",
              "      <td>enough</td>\n",
              "      <td>dam</td>\n",
              "      <td>dam</td>\n",
              "      <td>surface</td>\n",
              "      <td>communal standpipe multiple</td>\n",
              "      <td>communal standpipe</td>\n",
              "      <td>4.150582</td>\n",
              "      <td>2013</td>\n",
              "      <td>2</td>\n",
              "    </tr>\n",
              "    <tr>\n",
              "      <th>3</th>\n",
              "      <td>67743</td>\n",
              "      <td>0.0</td>\n",
              "      <td>2013-01-28</td>\n",
              "      <td>Unicef</td>\n",
              "      <td>263</td>\n",
              "      <td>UNICEF</td>\n",
              "      <td>38.486161</td>\n",
              "      <td>-11.155298</td>\n",
              "      <td>Zahanati Ya Nanyumbu</td>\n",
              "      <td>0</td>\n",
              "      <td>Ruvuma / Southern Coast</td>\n",
              "      <td>Mahakamani</td>\n",
              "      <td>Mtwara</td>\n",
              "      <td>90</td>\n",
              "      <td>63</td>\n",
              "      <td>Nanyumbu</td>\n",
              "      <td>Nanyumbu</td>\n",
              "      <td>58</td>\n",
              "      <td>True</td>\n",
              "      <td>GeoData Consultants Ltd</td>\n",
              "      <td>VWC</td>\n",
              "      <td>K</td>\n",
              "      <td>True</td>\n",
              "      <td>1986</td>\n",
              "      <td>submersible</td>\n",
              "      <td>submersible</td>\n",
              "      <td>submersible</td>\n",
              "      <td>vwc</td>\n",
              "      <td>user-group</td>\n",
              "      <td>never pay</td>\n",
              "      <td>never pay</td>\n",
              "      <td>soft</td>\n",
              "      <td>good</td>\n",
              "      <td>dry</td>\n",
              "      <td>dry</td>\n",
              "      <td>machine dbh</td>\n",
              "      <td>borehole</td>\n",
              "      <td>groundwater</td>\n",
              "      <td>communal standpipe multiple</td>\n",
              "      <td>communal standpipe</td>\n",
              "      <td>27.074606</td>\n",
              "      <td>2013</td>\n",
              "      <td>1</td>\n",
              "    </tr>\n",
              "    <tr>\n",
              "      <th>4</th>\n",
              "      <td>19728</td>\n",
              "      <td>0.0</td>\n",
              "      <td>2011-07-13</td>\n",
              "      <td>Action In A</td>\n",
              "      <td>0</td>\n",
              "      <td>Artisan</td>\n",
              "      <td>31.130847</td>\n",
              "      <td>-1.825359</td>\n",
              "      <td>Shuleni</td>\n",
              "      <td>0</td>\n",
              "      <td>Lake Victoria</td>\n",
              "      <td>Kyanyamisa</td>\n",
              "      <td>Kagera</td>\n",
              "      <td>18</td>\n",
              "      <td>1</td>\n",
              "      <td>Karagwe</td>\n",
              "      <td>Nyakasimbi</td>\n",
              "      <td>0</td>\n",
              "      <td>True</td>\n",
              "      <td>GeoData Consultants Ltd</td>\n",
              "      <td>VWC</td>\n",
              "      <td>K</td>\n",
              "      <td>True</td>\n",
              "      <td>1960</td>\n",
              "      <td>gravity</td>\n",
              "      <td>gravity</td>\n",
              "      <td>gravity</td>\n",
              "      <td>other</td>\n",
              "      <td>other</td>\n",
              "      <td>never pay</td>\n",
              "      <td>never pay</td>\n",
              "      <td>soft</td>\n",
              "      <td>good</td>\n",
              "      <td>seasonal</td>\n",
              "      <td>seasonal</td>\n",
              "      <td>rainwater harvesting</td>\n",
              "      <td>rainwater harvesting</td>\n",
              "      <td>surface</td>\n",
              "      <td>communal standpipe</td>\n",
              "      <td>communal standpipe</td>\n",
              "      <td>51.529090</td>\n",
              "      <td>2011</td>\n",
              "      <td>7</td>\n",
              "    </tr>\n",
              "  </tbody>\n",
              "</table>\n",
              "</div>"
            ],
            "text/plain": [
              "      id  amount_tsh date_recorded  ...        age  year_recorded month_recorded\n",
              "0  69572      6000.0    2011-03-14  ...  12.197125           2011              3\n",
              "1   8776         0.0    2013-03-06  ...   3.175907           2013              3\n",
              "2  34310        25.0    2013-02-25  ...   4.150582           2013              2\n",
              "3  67743         0.0    2013-01-28  ...  27.074606           2013              1\n",
              "4  19728         0.0    2011-07-13  ...  51.529090           2011              7\n",
              "\n",
              "[5 rows x 43 columns]"
            ]
          },
          "metadata": {},
          "execution_count": 304
        }
      ]
    },
    {
      "cell_type": "markdown",
      "metadata": {
        "id": "b5T7tX7utDPq"
      },
      "source": [
        "Now, let us split the combined dataset back to train and test, as they were earlier, but with the up-to-date features."
      ]
    },
    {
      "cell_type": "code",
      "metadata": {
        "colab": {
          "base_uri": "https://localhost:8080/"
        },
        "id": "PtaTTcABtQbb",
        "outputId": "4aea06a8-cac4-4c16-9edf-9f33a62885b7"
      },
      "source": [
        "train_feats = comb_copy[:len(train_feats)]\n",
        "test_feats = comb_copy[len(train_feats):]\n",
        "\n",
        "train_feats.shape, test_feats.shape"
      ],
      "execution_count": null,
      "outputs": [
        {
          "output_type": "execute_result",
          "data": {
            "text/plain": [
              "((59400, 43), (14850, 43))"
            ]
          },
          "metadata": {},
          "execution_count": 305
        }
      ]
    },
    {
      "cell_type": "markdown",
      "metadata": {
        "id": "cFcZcS-RGkYH"
      },
      "source": [
        "As the last step of feature engineering, let us encode the categorical features."
      ]
    },
    {
      "cell_type": "markdown",
      "metadata": {
        "id": "AdSNZ2Fc5zZc"
      },
      "source": [
        "First of all, to avoid running into errors, let us check in which columns are there unknown values in the test set."
      ]
    },
    {
      "cell_type": "code",
      "metadata": {
        "colab": {
          "base_uri": "https://localhost:8080/"
        },
        "id": "Z1zN8o4J6BpO",
        "outputId": "a4ce0425-94d4-4867-a4fb-6e169f0ac9fa"
      },
      "source": [
        "# Categorical columns\n",
        "cat_cols_all = train_feats.select_dtypes(include=['object', 'bool']).columns.tolist()\n",
        "\n",
        "cat_cols_with_unknown = []\n",
        "\n",
        "for col in cat_cols_all:\n",
        "  if train_feats[col].unique().shape != test_feats[col].unique().shape:\n",
        "    cat_cols_with_unknown.append(col)\n",
        "\n",
        "cat_cols_with_unknown"
      ],
      "execution_count": null,
      "outputs": [
        {
          "output_type": "execute_result",
          "data": {
            "text/plain": [
              "['date_recorded',\n",
              " 'funder',\n",
              " 'installer',\n",
              " 'wpt_name',\n",
              " 'subvillage',\n",
              " 'ward',\n",
              " 'scheme_management',\n",
              " 'scheme_name',\n",
              " 'extraction_type']"
            ]
          },
          "metadata": {},
          "execution_count": 306
        }
      ]
    },
    {
      "cell_type": "markdown",
      "metadata": {
        "id": "POglOwQPDTMA"
      },
      "source": [
        "Since there are columns with unknown values in the test set, we shall use two approaches to perform encoding."
      ]
    },
    {
      "cell_type": "markdown",
      "metadata": {
        "id": "msx8-hJsDgrO"
      },
      "source": [
        "First, let us consider columns which do not have unknow values, and apply Label Encoding as a convenient way to encode features using integers."
      ]
    },
    {
      "cell_type": "code",
      "metadata": {
        "colab": {
          "base_uri": "https://localhost:8080/",
          "height": 309
        },
        "id": "bAva9k1DDsZ6",
        "outputId": "2e53c418-7c51-463d-ebac-de4083639471"
      },
      "source": [
        "# Disable SettingWithCopyWarning temporarily\n",
        "pd.options.mode.chained_assignment = None\n",
        "\n",
        "# Using LabelEncoder class\n",
        "from sklearn.preprocessing import LabelEncoder\n",
        "\n",
        "encoder = LabelEncoder()\n",
        "\n",
        "# Considering columns which do not have unknown values\n",
        "cat_cols_without_unknown = [x for x in cat_cols_all if x not in cat_cols_with_unknown]\n",
        "\n",
        "for col in cat_cols_without_unknown:\n",
        "  train_feats[col] = encoder.fit_transform(train_feats[col])\n",
        "  test_feats[col] = encoder.transform(test_feats[col])\n",
        "\n",
        "# Enable SettingWithCopyWarning back\n",
        "pd.options.mode.chained_assignment = 'warn'\n",
        "\n",
        "train_feats.head()"
      ],
      "execution_count": null,
      "outputs": [
        {
          "output_type": "execute_result",
          "data": {
            "text/html": [
              "<div>\n",
              "<style scoped>\n",
              "    .dataframe tbody tr th:only-of-type {\n",
              "        vertical-align: middle;\n",
              "    }\n",
              "\n",
              "    .dataframe tbody tr th {\n",
              "        vertical-align: top;\n",
              "    }\n",
              "\n",
              "    .dataframe thead th {\n",
              "        text-align: right;\n",
              "    }\n",
              "</style>\n",
              "<table border=\"1\" class=\"dataframe\">\n",
              "  <thead>\n",
              "    <tr style=\"text-align: right;\">\n",
              "      <th></th>\n",
              "      <th>id</th>\n",
              "      <th>amount_tsh</th>\n",
              "      <th>date_recorded</th>\n",
              "      <th>funder</th>\n",
              "      <th>gps_height</th>\n",
              "      <th>installer</th>\n",
              "      <th>longitude</th>\n",
              "      <th>latitude</th>\n",
              "      <th>wpt_name</th>\n",
              "      <th>num_private</th>\n",
              "      <th>basin</th>\n",
              "      <th>subvillage</th>\n",
              "      <th>region</th>\n",
              "      <th>region_code</th>\n",
              "      <th>district_code</th>\n",
              "      <th>lga</th>\n",
              "      <th>ward</th>\n",
              "      <th>population</th>\n",
              "      <th>public_meeting</th>\n",
              "      <th>recorded_by</th>\n",
              "      <th>scheme_management</th>\n",
              "      <th>scheme_name</th>\n",
              "      <th>permit</th>\n",
              "      <th>construction_year</th>\n",
              "      <th>extraction_type</th>\n",
              "      <th>extraction_type_group</th>\n",
              "      <th>extraction_type_class</th>\n",
              "      <th>management</th>\n",
              "      <th>management_group</th>\n",
              "      <th>payment</th>\n",
              "      <th>payment_type</th>\n",
              "      <th>water_quality</th>\n",
              "      <th>quality_group</th>\n",
              "      <th>quantity</th>\n",
              "      <th>quantity_group</th>\n",
              "      <th>source</th>\n",
              "      <th>source_type</th>\n",
              "      <th>source_class</th>\n",
              "      <th>waterpoint_type</th>\n",
              "      <th>waterpoint_type_group</th>\n",
              "      <th>age</th>\n",
              "      <th>year_recorded</th>\n",
              "      <th>month_recorded</th>\n",
              "    </tr>\n",
              "  </thead>\n",
              "  <tbody>\n",
              "    <tr>\n",
              "      <th>0</th>\n",
              "      <td>69572</td>\n",
              "      <td>6000.0</td>\n",
              "      <td>2011-03-14</td>\n",
              "      <td>Roman</td>\n",
              "      <td>1390</td>\n",
              "      <td>Roman</td>\n",
              "      <td>34.938093</td>\n",
              "      <td>-9.856322</td>\n",
              "      <td>none</td>\n",
              "      <td>0</td>\n",
              "      <td>1</td>\n",
              "      <td>Mnyusi B</td>\n",
              "      <td>3</td>\n",
              "      <td>11</td>\n",
              "      <td>5</td>\n",
              "      <td>51</td>\n",
              "      <td>Mundindi</td>\n",
              "      <td>109</td>\n",
              "      <td>1</td>\n",
              "      <td>0</td>\n",
              "      <td>VWC</td>\n",
              "      <td>Roman</td>\n",
              "      <td>0</td>\n",
              "      <td>1999</td>\n",
              "      <td>gravity</td>\n",
              "      <td>1</td>\n",
              "      <td>0</td>\n",
              "      <td>7</td>\n",
              "      <td>4</td>\n",
              "      <td>2</td>\n",
              "      <td>0</td>\n",
              "      <td>6</td>\n",
              "      <td>2</td>\n",
              "      <td>1</td>\n",
              "      <td>1</td>\n",
              "      <td>8</td>\n",
              "      <td>6</td>\n",
              "      <td>0</td>\n",
              "      <td>1</td>\n",
              "      <td>1</td>\n",
              "      <td>12.197125</td>\n",
              "      <td>2011</td>\n",
              "      <td>3</td>\n",
              "    </tr>\n",
              "    <tr>\n",
              "      <th>1</th>\n",
              "      <td>8776</td>\n",
              "      <td>0.0</td>\n",
              "      <td>2013-03-06</td>\n",
              "      <td>Grumeti</td>\n",
              "      <td>1399</td>\n",
              "      <td>GRUMETI</td>\n",
              "      <td>34.698766</td>\n",
              "      <td>-2.147466</td>\n",
              "      <td>Zahanati</td>\n",
              "      <td>0</td>\n",
              "      <td>4</td>\n",
              "      <td>Nyamara</td>\n",
              "      <td>9</td>\n",
              "      <td>20</td>\n",
              "      <td>2</td>\n",
              "      <td>103</td>\n",
              "      <td>Natta</td>\n",
              "      <td>280</td>\n",
              "      <td>1</td>\n",
              "      <td>0</td>\n",
              "      <td>Other</td>\n",
              "      <td>K</td>\n",
              "      <td>1</td>\n",
              "      <td>2010</td>\n",
              "      <td>gravity</td>\n",
              "      <td>1</td>\n",
              "      <td>0</td>\n",
              "      <td>11</td>\n",
              "      <td>4</td>\n",
              "      <td>0</td>\n",
              "      <td>2</td>\n",
              "      <td>6</td>\n",
              "      <td>2</td>\n",
              "      <td>2</td>\n",
              "      <td>2</td>\n",
              "      <td>5</td>\n",
              "      <td>3</td>\n",
              "      <td>1</td>\n",
              "      <td>1</td>\n",
              "      <td>1</td>\n",
              "      <td>3.175907</td>\n",
              "      <td>2013</td>\n",
              "      <td>3</td>\n",
              "    </tr>\n",
              "    <tr>\n",
              "      <th>2</th>\n",
              "      <td>34310</td>\n",
              "      <td>25.0</td>\n",
              "      <td>2013-02-25</td>\n",
              "      <td>Lottery Club</td>\n",
              "      <td>686</td>\n",
              "      <td>World vision</td>\n",
              "      <td>37.460664</td>\n",
              "      <td>-3.821329</td>\n",
              "      <td>Kwa Mahundi</td>\n",
              "      <td>0</td>\n",
              "      <td>5</td>\n",
              "      <td>Majengo</td>\n",
              "      <td>8</td>\n",
              "      <td>21</td>\n",
              "      <td>4</td>\n",
              "      <td>108</td>\n",
              "      <td>Ngorika</td>\n",
              "      <td>250</td>\n",
              "      <td>1</td>\n",
              "      <td>0</td>\n",
              "      <td>VWC</td>\n",
              "      <td>Nyumba ya mungu pipe scheme</td>\n",
              "      <td>1</td>\n",
              "      <td>2009</td>\n",
              "      <td>gravity</td>\n",
              "      <td>1</td>\n",
              "      <td>0</td>\n",
              "      <td>7</td>\n",
              "      <td>4</td>\n",
              "      <td>4</td>\n",
              "      <td>5</td>\n",
              "      <td>6</td>\n",
              "      <td>2</td>\n",
              "      <td>1</td>\n",
              "      <td>1</td>\n",
              "      <td>0</td>\n",
              "      <td>1</td>\n",
              "      <td>1</td>\n",
              "      <td>2</td>\n",
              "      <td>1</td>\n",
              "      <td>4.150582</td>\n",
              "      <td>2013</td>\n",
              "      <td>2</td>\n",
              "    </tr>\n",
              "    <tr>\n",
              "      <th>3</th>\n",
              "      <td>67743</td>\n",
              "      <td>0.0</td>\n",
              "      <td>2013-01-28</td>\n",
              "      <td>Unicef</td>\n",
              "      <td>263</td>\n",
              "      <td>UNICEF</td>\n",
              "      <td>38.486161</td>\n",
              "      <td>-11.155298</td>\n",
              "      <td>Zahanati Ya Nanyumbu</td>\n",
              "      <td>0</td>\n",
              "      <td>7</td>\n",
              "      <td>Mahakamani</td>\n",
              "      <td>12</td>\n",
              "      <td>90</td>\n",
              "      <td>63</td>\n",
              "      <td>87</td>\n",
              "      <td>Nanyumbu</td>\n",
              "      <td>58</td>\n",
              "      <td>1</td>\n",
              "      <td>0</td>\n",
              "      <td>VWC</td>\n",
              "      <td>K</td>\n",
              "      <td>1</td>\n",
              "      <td>1986</td>\n",
              "      <td>submersible</td>\n",
              "      <td>10</td>\n",
              "      <td>5</td>\n",
              "      <td>7</td>\n",
              "      <td>4</td>\n",
              "      <td>0</td>\n",
              "      <td>2</td>\n",
              "      <td>6</td>\n",
              "      <td>2</td>\n",
              "      <td>0</td>\n",
              "      <td>0</td>\n",
              "      <td>3</td>\n",
              "      <td>0</td>\n",
              "      <td>0</td>\n",
              "      <td>2</td>\n",
              "      <td>1</td>\n",
              "      <td>27.074606</td>\n",
              "      <td>2013</td>\n",
              "      <td>1</td>\n",
              "    </tr>\n",
              "    <tr>\n",
              "      <th>4</th>\n",
              "      <td>19728</td>\n",
              "      <td>0.0</td>\n",
              "      <td>2011-07-13</td>\n",
              "      <td>Action In A</td>\n",
              "      <td>0</td>\n",
              "      <td>Artisan</td>\n",
              "      <td>31.130847</td>\n",
              "      <td>-1.825359</td>\n",
              "      <td>Shuleni</td>\n",
              "      <td>0</td>\n",
              "      <td>4</td>\n",
              "      <td>Kyanyamisa</td>\n",
              "      <td>4</td>\n",
              "      <td>18</td>\n",
              "      <td>1</td>\n",
              "      <td>26</td>\n",
              "      <td>Nyakasimbi</td>\n",
              "      <td>0</td>\n",
              "      <td>1</td>\n",
              "      <td>0</td>\n",
              "      <td>VWC</td>\n",
              "      <td>K</td>\n",
              "      <td>1</td>\n",
              "      <td>1960</td>\n",
              "      <td>gravity</td>\n",
              "      <td>1</td>\n",
              "      <td>0</td>\n",
              "      <td>1</td>\n",
              "      <td>1</td>\n",
              "      <td>0</td>\n",
              "      <td>2</td>\n",
              "      <td>6</td>\n",
              "      <td>2</td>\n",
              "      <td>3</td>\n",
              "      <td>3</td>\n",
              "      <td>5</td>\n",
              "      <td>3</td>\n",
              "      <td>1</td>\n",
              "      <td>1</td>\n",
              "      <td>1</td>\n",
              "      <td>51.529090</td>\n",
              "      <td>2011</td>\n",
              "      <td>7</td>\n",
              "    </tr>\n",
              "  </tbody>\n",
              "</table>\n",
              "</div>"
            ],
            "text/plain": [
              "      id  amount_tsh date_recorded  ...        age  year_recorded month_recorded\n",
              "0  69572      6000.0    2011-03-14  ...  12.197125           2011              3\n",
              "1   8776         0.0    2013-03-06  ...   3.175907           2013              3\n",
              "2  34310        25.0    2013-02-25  ...   4.150582           2013              2\n",
              "3  67743         0.0    2013-01-28  ...  27.074606           2013              1\n",
              "4  19728         0.0    2011-07-13  ...  51.529090           2011              7\n",
              "\n",
              "[5 rows x 43 columns]"
            ]
          },
          "metadata": {},
          "execution_count": 307
        }
      ]
    },
    {
      "cell_type": "markdown",
      "metadata": {
        "id": "NHtEoI2pFAGZ"
      },
      "source": [
        "Now let us create a function which can create encodings for unique values for each given column, with an additional capability of identifying unknown values in the test set, and assigning 0 as the encoding value for such values."
      ]
    },
    {
      "cell_type": "code",
      "metadata": {
        "id": "GCGHHRls-U9e"
      },
      "source": [
        "def get_encodings(trainSet : pd.DataFrame, testSet : pd.DataFrame, catCols : list):\n",
        "  trainReplace, testReplace = {}, {}\n",
        "  trainUniques, testUniques = [], []\n",
        "  for col in catCols:\n",
        "    c = 1\n",
        "    trainReplace[col], testReplace[col] = {}, {}\n",
        "    trainUniques = trainSet[col].unique().tolist()\n",
        "    testUniques = testSet[col].unique().tolist()\n",
        "    for u in trainUniques:\n",
        "      trainReplace[col][u] = c\n",
        "      c += 1\n",
        "    for u in testUniques:\n",
        "      if u in trainReplace[col]:\n",
        "        testReplace[col][u] = trainReplace[col][u]\n",
        "      else:\n",
        "        testReplace[col][u] = 0\n",
        "\n",
        "  return trainReplace, testReplace"
      ],
      "execution_count": null,
      "outputs": []
    },
    {
      "cell_type": "markdown",
      "metadata": {
        "id": "SwqN9JrVFgLo"
      },
      "source": [
        "Now, using that function, let us encode the remaining categorical columns in both sets. This might take a while. So you can get a short break! It's worth the wait."
      ]
    },
    {
      "cell_type": "code",
      "metadata": {
        "id": "4o1Jlsl6AUQB"
      },
      "source": [
        "reps = get_encodings(train_feats, test_feats, cat_cols_with_unknown)\n",
        "do = True\n",
        "\n",
        "if do:\n",
        "  # Disable SettingWithCopyWarning temporarily\n",
        "  pd.options.mode.chained_assignment = None\n",
        "\n",
        "  train_feats = train_feats.replace(reps[0])\n",
        "  test_feats = test_feats.replace(reps[1])\n",
        "\n",
        "  # Enable SettingWithCopyWarning back\n",
        "  pd.options.mode.chained_assignment = 'warn'"
      ],
      "execution_count": null,
      "outputs": []
    },
    {
      "cell_type": "markdown",
      "metadata": {
        "id": "uuzN_7iDMaLj"
      },
      "source": [
        "Let us check how successful our encoding has been."
      ]
    },
    {
      "cell_type": "code",
      "metadata": {
        "id": "32Joz_xyZ6Xk"
      },
      "source": [
        "# train_feats.dtypes"
      ],
      "execution_count": null,
      "outputs": []
    },
    {
      "cell_type": "code",
      "metadata": {
        "colab": {
          "base_uri": "https://localhost:8080/",
          "height": 317
        },
        "id": "Y7RPFKYD8kpJ",
        "outputId": "aa33db88-2b7c-49f9-9009-29944e2fa72e"
      },
      "source": [
        "train_feats.describe()"
      ],
      "execution_count": null,
      "outputs": [
        {
          "output_type": "execute_result",
          "data": {
            "text/html": [
              "<div>\n",
              "<style scoped>\n",
              "    .dataframe tbody tr th:only-of-type {\n",
              "        vertical-align: middle;\n",
              "    }\n",
              "\n",
              "    .dataframe tbody tr th {\n",
              "        vertical-align: top;\n",
              "    }\n",
              "\n",
              "    .dataframe thead th {\n",
              "        text-align: right;\n",
              "    }\n",
              "</style>\n",
              "<table border=\"1\" class=\"dataframe\">\n",
              "  <thead>\n",
              "    <tr style=\"text-align: right;\">\n",
              "      <th></th>\n",
              "      <th>id</th>\n",
              "      <th>amount_tsh</th>\n",
              "      <th>date_recorded</th>\n",
              "      <th>funder</th>\n",
              "      <th>gps_height</th>\n",
              "      <th>installer</th>\n",
              "      <th>longitude</th>\n",
              "      <th>latitude</th>\n",
              "      <th>wpt_name</th>\n",
              "      <th>num_private</th>\n",
              "      <th>basin</th>\n",
              "      <th>subvillage</th>\n",
              "      <th>region</th>\n",
              "      <th>region_code</th>\n",
              "      <th>district_code</th>\n",
              "      <th>lga</th>\n",
              "      <th>ward</th>\n",
              "      <th>population</th>\n",
              "      <th>public_meeting</th>\n",
              "      <th>recorded_by</th>\n",
              "      <th>scheme_management</th>\n",
              "      <th>scheme_name</th>\n",
              "      <th>permit</th>\n",
              "      <th>construction_year</th>\n",
              "      <th>extraction_type</th>\n",
              "      <th>extraction_type_group</th>\n",
              "      <th>extraction_type_class</th>\n",
              "      <th>management</th>\n",
              "      <th>management_group</th>\n",
              "      <th>payment</th>\n",
              "      <th>payment_type</th>\n",
              "      <th>water_quality</th>\n",
              "      <th>quality_group</th>\n",
              "      <th>quantity</th>\n",
              "      <th>quantity_group</th>\n",
              "      <th>source</th>\n",
              "      <th>source_type</th>\n",
              "      <th>source_class</th>\n",
              "      <th>waterpoint_type</th>\n",
              "      <th>waterpoint_type_group</th>\n",
              "      <th>age</th>\n",
              "      <th>year_recorded</th>\n",
              "      <th>month_recorded</th>\n",
              "    </tr>\n",
              "  </thead>\n",
              "  <tbody>\n",
              "    <tr>\n",
              "      <th>count</th>\n",
              "      <td>59400.000000</td>\n",
              "      <td>59400.000000</td>\n",
              "      <td>59400.000000</td>\n",
              "      <td>59400.000000</td>\n",
              "      <td>59400.000000</td>\n",
              "      <td>59400.000000</td>\n",
              "      <td>59400.000000</td>\n",
              "      <td>59400.000000</td>\n",
              "      <td>59400.000000</td>\n",
              "      <td>59400.000000</td>\n",
              "      <td>59400.000000</td>\n",
              "      <td>59400.000000</td>\n",
              "      <td>59400.000000</td>\n",
              "      <td>59400.000000</td>\n",
              "      <td>59400.000000</td>\n",
              "      <td>59400.000000</td>\n",
              "      <td>59400.000000</td>\n",
              "      <td>59400.000000</td>\n",
              "      <td>59400.000000</td>\n",
              "      <td>59400.0</td>\n",
              "      <td>59400.000000</td>\n",
              "      <td>59400.000000</td>\n",
              "      <td>59400.000000</td>\n",
              "      <td>59400.000000</td>\n",
              "      <td>59400.00000</td>\n",
              "      <td>59400.000000</td>\n",
              "      <td>59400.000000</td>\n",
              "      <td>59400.000000</td>\n",
              "      <td>59400.000000</td>\n",
              "      <td>59400.000000</td>\n",
              "      <td>59400.000000</td>\n",
              "      <td>59400.000000</td>\n",
              "      <td>59400.000000</td>\n",
              "      <td>59400.000000</td>\n",
              "      <td>59400.000000</td>\n",
              "      <td>59400.000000</td>\n",
              "      <td>59400.000000</td>\n",
              "      <td>59400.000000</td>\n",
              "      <td>59400.000000</td>\n",
              "      <td>59400.000000</td>\n",
              "      <td>59400.000000</td>\n",
              "      <td>59400.000000</td>\n",
              "      <td>59400.000000</td>\n",
              "    </tr>\n",
              "    <tr>\n",
              "      <th>mean</th>\n",
              "      <td>37115.131768</td>\n",
              "      <td>317.650385</td>\n",
              "      <td>119.801195</td>\n",
              "      <td>133.058485</td>\n",
              "      <td>668.297239</td>\n",
              "      <td>142.775101</td>\n",
              "      <td>35.089706</td>\n",
              "      <td>-5.801787</td>\n",
              "      <td>13214.507306</td>\n",
              "      <td>0.474141</td>\n",
              "      <td>4.077172</td>\n",
              "      <td>5963.724091</td>\n",
              "      <td>9.835606</td>\n",
              "      <td>15.297003</td>\n",
              "      <td>5.629747</td>\n",
              "      <td>60.039882</td>\n",
              "      <td>741.484024</td>\n",
              "      <td>179.909983</td>\n",
              "      <td>0.914899</td>\n",
              "      <td>0.0</td>\n",
              "      <td>2.436549</td>\n",
              "      <td>319.558300</td>\n",
              "      <td>0.705522</td>\n",
              "      <td>1983.979747</td>\n",
              "      <td>3.28468</td>\n",
              "      <td>3.936549</td>\n",
              "      <td>1.264663</td>\n",
              "      <td>7.275741</td>\n",
              "      <td>3.638418</td>\n",
              "      <td>2.318013</td>\n",
              "      <td>2.842104</td>\n",
              "      <td>5.754293</td>\n",
              "      <td>2.263047</td>\n",
              "      <td>1.325758</td>\n",
              "      <td>1.325758</td>\n",
              "      <td>6.063199</td>\n",
              "      <td>3.970556</td>\n",
              "      <td>0.233737</td>\n",
              "      <td>2.574091</td>\n",
              "      <td>2.056212</td>\n",
              "      <td>28.263069</td>\n",
              "      <td>2011.923030</td>\n",
              "      <td>4.376650</td>\n",
              "    </tr>\n",
              "    <tr>\n",
              "      <th>std</th>\n",
              "      <td>21453.128371</td>\n",
              "      <td>2997.574558</td>\n",
              "      <td>74.521538</td>\n",
              "      <td>245.094648</td>\n",
              "      <td>693.116350</td>\n",
              "      <td>291.924628</td>\n",
              "      <td>2.589571</td>\n",
              "      <td>2.808016</td>\n",
              "      <td>11833.940556</td>\n",
              "      <td>12.236230</td>\n",
              "      <td>2.473082</td>\n",
              "      <td>5362.854811</td>\n",
              "      <td>5.936892</td>\n",
              "      <td>17.587406</td>\n",
              "      <td>9.633649</td>\n",
              "      <td>35.244499</td>\n",
              "      <td>521.945313</td>\n",
              "      <td>471.482176</td>\n",
              "      <td>0.279034</td>\n",
              "      <td>0.0</td>\n",
              "      <td>2.371295</td>\n",
              "      <td>532.389226</td>\n",
              "      <td>0.455812</td>\n",
              "      <td>20.226312</td>\n",
              "      <td>2.80128</td>\n",
              "      <td>3.527073</td>\n",
              "      <td>1.626676</td>\n",
              "      <td>2.045373</td>\n",
              "      <td>1.058579</td>\n",
              "      <td>2.271259</td>\n",
              "      <td>1.836111</td>\n",
              "      <td>0.900820</td>\n",
              "      <td>0.784268</td>\n",
              "      <td>0.803750</td>\n",
              "      <td>0.803750</td>\n",
              "      <td>2.034190</td>\n",
              "      <td>2.191798</td>\n",
              "      <td>0.434129</td>\n",
              "      <td>1.781438</td>\n",
              "      <td>1.378937</td>\n",
              "      <td>20.051542</td>\n",
              "      <td>0.953877</td>\n",
              "      <td>3.030317</td>\n",
              "    </tr>\n",
              "    <tr>\n",
              "      <th>min</th>\n",
              "      <td>0.000000</td>\n",
              "      <td>0.000000</td>\n",
              "      <td>1.000000</td>\n",
              "      <td>1.000000</td>\n",
              "      <td>-90.000000</td>\n",
              "      <td>1.000000</td>\n",
              "      <td>29.607122</td>\n",
              "      <td>-11.649440</td>\n",
              "      <td>1.000000</td>\n",
              "      <td>0.000000</td>\n",
              "      <td>0.000000</td>\n",
              "      <td>1.000000</td>\n",
              "      <td>0.000000</td>\n",
              "      <td>1.000000</td>\n",
              "      <td>0.000000</td>\n",
              "      <td>0.000000</td>\n",
              "      <td>1.000000</td>\n",
              "      <td>0.000000</td>\n",
              "      <td>0.000000</td>\n",
              "      <td>0.0</td>\n",
              "      <td>1.000000</td>\n",
              "      <td>1.000000</td>\n",
              "      <td>0.000000</td>\n",
              "      <td>1960.000000</td>\n",
              "      <td>1.00000</td>\n",
              "      <td>0.000000</td>\n",
              "      <td>0.000000</td>\n",
              "      <td>0.000000</td>\n",
              "      <td>0.000000</td>\n",
              "      <td>0.000000</td>\n",
              "      <td>0.000000</td>\n",
              "      <td>0.000000</td>\n",
              "      <td>0.000000</td>\n",
              "      <td>0.000000</td>\n",
              "      <td>0.000000</td>\n",
              "      <td>0.000000</td>\n",
              "      <td>0.000000</td>\n",
              "      <td>0.000000</td>\n",
              "      <td>0.000000</td>\n",
              "      <td>0.000000</td>\n",
              "      <td>0.005476</td>\n",
              "      <td>2002.000000</td>\n",
              "      <td>1.000000</td>\n",
              "    </tr>\n",
              "    <tr>\n",
              "      <th>25%</th>\n",
              "      <td>18519.750000</td>\n",
              "      <td>0.000000</td>\n",
              "      <td>58.000000</td>\n",
              "      <td>21.000000</td>\n",
              "      <td>0.000000</td>\n",
              "      <td>6.000000</td>\n",
              "      <td>33.240158</td>\n",
              "      <td>-8.541226</td>\n",
              "      <td>1629.000000</td>\n",
              "      <td>0.000000</td>\n",
              "      <td>2.000000</td>\n",
              "      <td>1219.000000</td>\n",
              "      <td>4.000000</td>\n",
              "      <td>5.000000</td>\n",
              "      <td>2.000000</td>\n",
              "      <td>30.000000</td>\n",
              "      <td>294.000000</td>\n",
              "      <td>0.000000</td>\n",
              "      <td>1.000000</td>\n",
              "      <td>0.0</td>\n",
              "      <td>1.000000</td>\n",
              "      <td>2.000000</td>\n",
              "      <td>0.000000</td>\n",
              "      <td>1960.000000</td>\n",
              "      <td>1.00000</td>\n",
              "      <td>1.000000</td>\n",
              "      <td>0.000000</td>\n",
              "      <td>7.000000</td>\n",
              "      <td>4.000000</td>\n",
              "      <td>0.000000</td>\n",
              "      <td>2.000000</td>\n",
              "      <td>6.000000</td>\n",
              "      <td>2.000000</td>\n",
              "      <td>1.000000</td>\n",
              "      <td>1.000000</td>\n",
              "      <td>5.000000</td>\n",
              "      <td>3.000000</td>\n",
              "      <td>0.000000</td>\n",
              "      <td>1.000000</td>\n",
              "      <td>1.000000</td>\n",
              "      <td>8.156057</td>\n",
              "      <td>2011.000000</td>\n",
              "      <td>2.000000</td>\n",
              "    </tr>\n",
              "    <tr>\n",
              "      <th>50%</th>\n",
              "      <td>37061.500000</td>\n",
              "      <td>0.000000</td>\n",
              "      <td>112.000000</td>\n",
              "      <td>40.000000</td>\n",
              "      <td>369.000000</td>\n",
              "      <td>31.000000</td>\n",
              "      <td>34.908743</td>\n",
              "      <td>-5.022018</td>\n",
              "      <td>10617.000000</td>\n",
              "      <td>0.000000</td>\n",
              "      <td>4.000000</td>\n",
              "      <td>4438.500000</td>\n",
              "      <td>10.000000</td>\n",
              "      <td>12.000000</td>\n",
              "      <td>3.000000</td>\n",
              "      <td>60.000000</td>\n",
              "      <td>661.000000</td>\n",
              "      <td>25.000000</td>\n",
              "      <td>1.000000</td>\n",
              "      <td>0.0</td>\n",
              "      <td>1.000000</td>\n",
              "      <td>7.000000</td>\n",
              "      <td>1.000000</td>\n",
              "      <td>1986.000000</td>\n",
              "      <td>2.00000</td>\n",
              "      <td>2.000000</td>\n",
              "      <td>1.000000</td>\n",
              "      <td>7.000000</td>\n",
              "      <td>4.000000</td>\n",
              "      <td>2.000000</td>\n",
              "      <td>2.000000</td>\n",
              "      <td>6.000000</td>\n",
              "      <td>2.000000</td>\n",
              "      <td>1.000000</td>\n",
              "      <td>1.000000</td>\n",
              "      <td>7.000000</td>\n",
              "      <td>5.000000</td>\n",
              "      <td>0.000000</td>\n",
              "      <td>2.000000</td>\n",
              "      <td>1.000000</td>\n",
              "      <td>26.195756</td>\n",
              "      <td>2012.000000</td>\n",
              "      <td>3.000000</td>\n",
              "    </tr>\n",
              "    <tr>\n",
              "      <th>75%</th>\n",
              "      <td>55656.500000</td>\n",
              "      <td>20.000000</td>\n",
              "      <td>177.000000</td>\n",
              "      <td>129.000000</td>\n",
              "      <td>1319.250000</td>\n",
              "      <td>132.250000</td>\n",
              "      <td>37.178387</td>\n",
              "      <td>-3.359899</td>\n",
              "      <td>23161.250000</td>\n",
              "      <td>0.000000</td>\n",
              "      <td>6.000000</td>\n",
              "      <td>9724.000000</td>\n",
              "      <td>15.000000</td>\n",
              "      <td>17.000000</td>\n",
              "      <td>5.000000</td>\n",
              "      <td>91.000000</td>\n",
              "      <td>1120.000000</td>\n",
              "      <td>215.000000</td>\n",
              "      <td>1.000000</td>\n",
              "      <td>0.0</td>\n",
              "      <td>4.000000</td>\n",
              "      <td>453.000000</td>\n",
              "      <td>1.000000</td>\n",
              "      <td>2004.000000</td>\n",
              "      <td>5.00000</td>\n",
              "      <td>6.000000</td>\n",
              "      <td>2.000000</td>\n",
              "      <td>7.000000</td>\n",
              "      <td>4.000000</td>\n",
              "      <td>4.000000</td>\n",
              "      <td>5.000000</td>\n",
              "      <td>6.000000</td>\n",
              "      <td>2.000000</td>\n",
              "      <td>2.000000</td>\n",
              "      <td>2.000000</td>\n",
              "      <td>8.000000</td>\n",
              "      <td>6.000000</td>\n",
              "      <td>0.000000</td>\n",
              "      <td>4.000000</td>\n",
              "      <td>3.000000</td>\n",
              "      <td>51.518138</td>\n",
              "      <td>2013.000000</td>\n",
              "      <td>7.000000</td>\n",
              "    </tr>\n",
              "    <tr>\n",
              "      <th>max</th>\n",
              "      <td>74247.000000</td>\n",
              "      <td>350000.000000</td>\n",
              "      <td>353.000000</td>\n",
              "      <td>1897.000000</td>\n",
              "      <td>2770.000000</td>\n",
              "      <td>2145.000000</td>\n",
              "      <td>40.345193</td>\n",
              "      <td>-0.998464</td>\n",
              "      <td>37400.000000</td>\n",
              "      <td>1776.000000</td>\n",
              "      <td>8.000000</td>\n",
              "      <td>19287.000000</td>\n",
              "      <td>20.000000</td>\n",
              "      <td>99.000000</td>\n",
              "      <td>80.000000</td>\n",
              "      <td>124.000000</td>\n",
              "      <td>2092.000000</td>\n",
              "      <td>30500.000000</td>\n",
              "      <td>1.000000</td>\n",
              "      <td>0.0</td>\n",
              "      <td>12.000000</td>\n",
              "      <td>2696.000000</td>\n",
              "      <td>1.000000</td>\n",
              "      <td>2013.000000</td>\n",
              "      <td>18.00000</td>\n",
              "      <td>12.000000</td>\n",
              "      <td>6.000000</td>\n",
              "      <td>11.000000</td>\n",
              "      <td>4.000000</td>\n",
              "      <td>6.000000</td>\n",
              "      <td>6.000000</td>\n",
              "      <td>7.000000</td>\n",
              "      <td>5.000000</td>\n",
              "      <td>4.000000</td>\n",
              "      <td>4.000000</td>\n",
              "      <td>9.000000</td>\n",
              "      <td>6.000000</td>\n",
              "      <td>2.000000</td>\n",
              "      <td>6.000000</td>\n",
              "      <td>5.000000</td>\n",
              "      <td>53.921971</td>\n",
              "      <td>2013.000000</td>\n",
              "      <td>12.000000</td>\n",
              "    </tr>\n",
              "  </tbody>\n",
              "</table>\n",
              "</div>"
            ],
            "text/plain": [
              "                 id     amount_tsh  ...  year_recorded  month_recorded\n",
              "count  59400.000000   59400.000000  ...   59400.000000    59400.000000\n",
              "mean   37115.131768     317.650385  ...    2011.923030        4.376650\n",
              "std    21453.128371    2997.574558  ...       0.953877        3.030317\n",
              "min        0.000000       0.000000  ...    2002.000000        1.000000\n",
              "25%    18519.750000       0.000000  ...    2011.000000        2.000000\n",
              "50%    37061.500000       0.000000  ...    2012.000000        3.000000\n",
              "75%    55656.500000      20.000000  ...    2013.000000        7.000000\n",
              "max    74247.000000  350000.000000  ...    2013.000000       12.000000\n",
              "\n",
              "[8 rows x 43 columns]"
            ]
          },
          "metadata": {},
          "execution_count": 311
        }
      ]
    },
    {
      "cell_type": "code",
      "metadata": {
        "colab": {
          "base_uri": "https://localhost:8080/",
          "height": 224
        },
        "id": "t4yXKSpVMuM7",
        "outputId": "16396e33-83ec-4daa-ed77-6e8b12fef0e1"
      },
      "source": [
        "test_feats.head()"
      ],
      "execution_count": null,
      "outputs": [
        {
          "output_type": "execute_result",
          "data": {
            "text/html": [
              "<div>\n",
              "<style scoped>\n",
              "    .dataframe tbody tr th:only-of-type {\n",
              "        vertical-align: middle;\n",
              "    }\n",
              "\n",
              "    .dataframe tbody tr th {\n",
              "        vertical-align: top;\n",
              "    }\n",
              "\n",
              "    .dataframe thead th {\n",
              "        text-align: right;\n",
              "    }\n",
              "</style>\n",
              "<table border=\"1\" class=\"dataframe\">\n",
              "  <thead>\n",
              "    <tr style=\"text-align: right;\">\n",
              "      <th></th>\n",
              "      <th>id</th>\n",
              "      <th>amount_tsh</th>\n",
              "      <th>date_recorded</th>\n",
              "      <th>funder</th>\n",
              "      <th>gps_height</th>\n",
              "      <th>installer</th>\n",
              "      <th>longitude</th>\n",
              "      <th>latitude</th>\n",
              "      <th>wpt_name</th>\n",
              "      <th>num_private</th>\n",
              "      <th>basin</th>\n",
              "      <th>subvillage</th>\n",
              "      <th>region</th>\n",
              "      <th>region_code</th>\n",
              "      <th>district_code</th>\n",
              "      <th>lga</th>\n",
              "      <th>ward</th>\n",
              "      <th>population</th>\n",
              "      <th>public_meeting</th>\n",
              "      <th>recorded_by</th>\n",
              "      <th>scheme_management</th>\n",
              "      <th>scheme_name</th>\n",
              "      <th>permit</th>\n",
              "      <th>construction_year</th>\n",
              "      <th>extraction_type</th>\n",
              "      <th>extraction_type_group</th>\n",
              "      <th>extraction_type_class</th>\n",
              "      <th>management</th>\n",
              "      <th>management_group</th>\n",
              "      <th>payment</th>\n",
              "      <th>payment_type</th>\n",
              "      <th>water_quality</th>\n",
              "      <th>quality_group</th>\n",
              "      <th>quantity</th>\n",
              "      <th>quantity_group</th>\n",
              "      <th>source</th>\n",
              "      <th>source_type</th>\n",
              "      <th>source_class</th>\n",
              "      <th>waterpoint_type</th>\n",
              "      <th>waterpoint_type_group</th>\n",
              "      <th>age</th>\n",
              "      <th>year_recorded</th>\n",
              "      <th>month_recorded</th>\n",
              "    </tr>\n",
              "  </thead>\n",
              "  <tbody>\n",
              "    <tr>\n",
              "      <th>0</th>\n",
              "      <td>50785</td>\n",
              "      <td>0.0</td>\n",
              "      <td>62</td>\n",
              "      <td>163</td>\n",
              "      <td>1996</td>\n",
              "      <td>341</td>\n",
              "      <td>35.290799</td>\n",
              "      <td>-4.059696</td>\n",
              "      <td>0</td>\n",
              "      <td>0</td>\n",
              "      <td>0</td>\n",
              "      <td>10943</td>\n",
              "      <td>8</td>\n",
              "      <td>21</td>\n",
              "      <td>3</td>\n",
              "      <td>63</td>\n",
              "      <td>574</td>\n",
              "      <td>321</td>\n",
              "      <td>1</td>\n",
              "      <td>0</td>\n",
              "      <td>9</td>\n",
              "      <td>2</td>\n",
              "      <td>1</td>\n",
              "      <td>2012</td>\n",
              "      <td>6</td>\n",
              "      <td>6</td>\n",
              "      <td>3</td>\n",
              "      <td>3</td>\n",
              "      <td>2</td>\n",
              "      <td>0</td>\n",
              "      <td>2</td>\n",
              "      <td>6</td>\n",
              "      <td>2</td>\n",
              "      <td>3</td>\n",
              "      <td>3</td>\n",
              "      <td>5</td>\n",
              "      <td>3</td>\n",
              "      <td>1</td>\n",
              "      <td>6</td>\n",
              "      <td>5</td>\n",
              "      <td>1.095140</td>\n",
              "      <td>2013</td>\n",
              "      <td>2</td>\n",
              "    </tr>\n",
              "    <tr>\n",
              "      <th>1</th>\n",
              "      <td>51630</td>\n",
              "      <td>0.0</td>\n",
              "      <td>62</td>\n",
              "      <td>21</td>\n",
              "      <td>1569</td>\n",
              "      <td>6</td>\n",
              "      <td>36.656709</td>\n",
              "      <td>-3.309214</td>\n",
              "      <td>0</td>\n",
              "      <td>0</td>\n",
              "      <td>5</td>\n",
              "      <td>0</td>\n",
              "      <td>0</td>\n",
              "      <td>2</td>\n",
              "      <td>2</td>\n",
              "      <td>0</td>\n",
              "      <td>368</td>\n",
              "      <td>300</td>\n",
              "      <td>1</td>\n",
              "      <td>0</td>\n",
              "      <td>1</td>\n",
              "      <td>416</td>\n",
              "      <td>1</td>\n",
              "      <td>2000</td>\n",
              "      <td>1</td>\n",
              "      <td>1</td>\n",
              "      <td>0</td>\n",
              "      <td>7</td>\n",
              "      <td>4</td>\n",
              "      <td>0</td>\n",
              "      <td>2</td>\n",
              "      <td>6</td>\n",
              "      <td>2</td>\n",
              "      <td>2</td>\n",
              "      <td>2</td>\n",
              "      <td>8</td>\n",
              "      <td>6</td>\n",
              "      <td>0</td>\n",
              "      <td>1</td>\n",
              "      <td>1</td>\n",
              "      <td>13.095140</td>\n",
              "      <td>2013</td>\n",
              "      <td>2</td>\n",
              "    </tr>\n",
              "    <tr>\n",
              "      <th>2</th>\n",
              "      <td>17168</td>\n",
              "      <td>0.0</td>\n",
              "      <td>165</td>\n",
              "      <td>21</td>\n",
              "      <td>1567</td>\n",
              "      <td>6</td>\n",
              "      <td>34.767863</td>\n",
              "      <td>-5.004344</td>\n",
              "      <td>21519</td>\n",
              "      <td>0</td>\n",
              "      <td>0</td>\n",
              "      <td>7344</td>\n",
              "      <td>18</td>\n",
              "      <td>13</td>\n",
              "      <td>2</td>\n",
              "      <td>109</td>\n",
              "      <td>648</td>\n",
              "      <td>500</td>\n",
              "      <td>1</td>\n",
              "      <td>0</td>\n",
              "      <td>1</td>\n",
              "      <td>937</td>\n",
              "      <td>1</td>\n",
              "      <td>2010</td>\n",
              "      <td>6</td>\n",
              "      <td>6</td>\n",
              "      <td>3</td>\n",
              "      <td>7</td>\n",
              "      <td>4</td>\n",
              "      <td>0</td>\n",
              "      <td>2</td>\n",
              "      <td>6</td>\n",
              "      <td>2</td>\n",
              "      <td>2</td>\n",
              "      <td>2</td>\n",
              "      <td>5</td>\n",
              "      <td>3</td>\n",
              "      <td>1</td>\n",
              "      <td>6</td>\n",
              "      <td>5</td>\n",
              "      <td>3.085558</td>\n",
              "      <td>2013</td>\n",
              "      <td>2</td>\n",
              "    </tr>\n",
              "    <tr>\n",
              "      <th>3</th>\n",
              "      <td>45559</td>\n",
              "      <td>0.0</td>\n",
              "      <td>56</td>\n",
              "      <td>144</td>\n",
              "      <td>267</td>\n",
              "      <td>130</td>\n",
              "      <td>38.058046</td>\n",
              "      <td>-9.418672</td>\n",
              "      <td>0</td>\n",
              "      <td>0</td>\n",
              "      <td>7</td>\n",
              "      <td>5579</td>\n",
              "      <td>7</td>\n",
              "      <td>80</td>\n",
              "      <td>43</td>\n",
              "      <td>49</td>\n",
              "      <td>1796</td>\n",
              "      <td>250</td>\n",
              "      <td>1</td>\n",
              "      <td>0</td>\n",
              "      <td>1</td>\n",
              "      <td>2</td>\n",
              "      <td>1</td>\n",
              "      <td>1987</td>\n",
              "      <td>6</td>\n",
              "      <td>6</td>\n",
              "      <td>3</td>\n",
              "      <td>7</td>\n",
              "      <td>4</td>\n",
              "      <td>6</td>\n",
              "      <td>6</td>\n",
              "      <td>6</td>\n",
              "      <td>2</td>\n",
              "      <td>0</td>\n",
              "      <td>0</td>\n",
              "      <td>7</td>\n",
              "      <td>5</td>\n",
              "      <td>0</td>\n",
              "      <td>6</td>\n",
              "      <td>5</td>\n",
              "      <td>26.058864</td>\n",
              "      <td>2013</td>\n",
              "      <td>1</td>\n",
              "    </tr>\n",
              "    <tr>\n",
              "      <th>4</th>\n",
              "      <td>49871</td>\n",
              "      <td>500.0</td>\n",
              "      <td>265</td>\n",
              "      <td>1037</td>\n",
              "      <td>1260</td>\n",
              "      <td>1132</td>\n",
              "      <td>35.006123</td>\n",
              "      <td>-10.950412</td>\n",
              "      <td>2985</td>\n",
              "      <td>0</td>\n",
              "      <td>7</td>\n",
              "      <td>2890</td>\n",
              "      <td>16</td>\n",
              "      <td>10</td>\n",
              "      <td>3</td>\n",
              "      <td>61</td>\n",
              "      <td>654</td>\n",
              "      <td>60</td>\n",
              "      <td>1</td>\n",
              "      <td>0</td>\n",
              "      <td>5</td>\n",
              "      <td>318</td>\n",
              "      <td>1</td>\n",
              "      <td>2000</td>\n",
              "      <td>1</td>\n",
              "      <td>1</td>\n",
              "      <td>0</td>\n",
              "      <td>9</td>\n",
              "      <td>4</td>\n",
              "      <td>3</td>\n",
              "      <td>1</td>\n",
              "      <td>6</td>\n",
              "      <td>2</td>\n",
              "      <td>1</td>\n",
              "      <td>1</td>\n",
              "      <td>8</td>\n",
              "      <td>6</td>\n",
              "      <td>0</td>\n",
              "      <td>1</td>\n",
              "      <td>1</td>\n",
              "      <td>13.234771</td>\n",
              "      <td>2013</td>\n",
              "      <td>3</td>\n",
              "    </tr>\n",
              "  </tbody>\n",
              "</table>\n",
              "</div>"
            ],
            "text/plain": [
              "      id  amount_tsh  date_recorded  ...        age  year_recorded  month_recorded\n",
              "0  50785         0.0             62  ...   1.095140           2013               2\n",
              "1  51630         0.0             62  ...  13.095140           2013               2\n",
              "2  17168         0.0            165  ...   3.085558           2013               2\n",
              "3  45559         0.0             56  ...  26.058864           2013               1\n",
              "4  49871       500.0            265  ...  13.234771           2013               3\n",
              "\n",
              "[5 rows x 43 columns]"
            ]
          },
          "metadata": {},
          "execution_count": 312
        }
      ]
    },
    {
      "cell_type": "markdown",
      "metadata": {
        "id": "QFq7UneJPj39"
      },
      "source": [
        "# Part 5: Validation"
      ]
    },
    {
      "cell_type": "markdown",
      "metadata": {
        "id": "ox083OtFPqcd"
      },
      "source": [
        "Before making actual predictions, let us do a validation by splitting our training data into two parts: training and validation."
      ]
    },
    {
      "cell_type": "markdown",
      "metadata": {
        "id": "Z0bnhnnxUTK3"
      },
      "source": [
        "First, let us decide which features are we going to use in model training."
      ]
    },
    {
      "cell_type": "code",
      "metadata": {
        "colab": {
          "base_uri": "https://localhost:8080/"
        },
        "id": "xOjCijFuM9e1",
        "outputId": "6a256fa4-e9bf-4cca-e392-73bc40617cca"
      },
      "source": [
        "train_feats.shape, test_feats.shape"
      ],
      "execution_count": null,
      "outputs": [
        {
          "output_type": "execute_result",
          "data": {
            "text/plain": [
              "((59400, 43), (14850, 43))"
            ]
          },
          "metadata": {},
          "execution_count": 314
        }
      ]
    },
    {
      "cell_type": "code",
      "metadata": {
        "colab": {
          "base_uri": "https://localhost:8080/"
        },
        "id": "atQGXxA8UY-2",
        "outputId": "ed3747e4-45e9-4a08-a06b-bebb3f6b5b6b"
      },
      "source": [
        "to_exclude = ['id', 'date_recorded', 'recorded_by', 'num_private']\n",
        "features = [f for f in train_feats.columns if f not in to_exclude]\n",
        "len(features)"
      ],
      "execution_count": null,
      "outputs": [
        {
          "output_type": "execute_result",
          "data": {
            "text/plain": [
              "39"
            ]
          },
          "metadata": {},
          "execution_count": 315
        }
      ]
    },
    {
      "cell_type": "markdown",
      "metadata": {
        "id": "UB4dZEYfQ4XK"
      },
      "source": [
        "First let us split the training set"
      ]
    },
    {
      "cell_type": "code",
      "metadata": {
        "colab": {
          "base_uri": "https://localhost:8080/"
        },
        "id": "wid_OG-3P762",
        "outputId": "7776146f-6d84-4078-b246-76d77ca7bc34"
      },
      "source": [
        "from sklearn.model_selection import train_test_split\n",
        "\n",
        "train_X, valid_X, train_y, valid_y = train_test_split(train_feats[features], train_labels.status_group, test_size=0.2, random_state=1)\n",
        "\n",
        "train_X.shape, valid_X.shape"
      ],
      "execution_count": null,
      "outputs": [
        {
          "output_type": "execute_result",
          "data": {
            "text/plain": [
              "((47520, 39), (11880, 39))"
            ]
          },
          "metadata": {},
          "execution_count": 316
        }
      ]
    },
    {
      "cell_type": "markdown",
      "metadata": {
        "id": "ZrWiDqDsRFSe"
      },
      "source": [
        "Let us use a `RandomForestClassifier` and an `ExtraTreesClassifier` as two models for validation. We can then choose the model with the highest validation score as our final model."
      ]
    },
    {
      "cell_type": "code",
      "metadata": {
        "colab": {
          "base_uri": "https://localhost:8080/"
        },
        "id": "fyNca-0MQ1zs",
        "outputId": "5ebb418b-0880-43f6-fa24-7187b21e6c59"
      },
      "source": [
        "from sklearn.ensemble import RandomForestClassifier, ExtraTreesClassifier\n",
        "\n",
        "# Initializing models\n",
        "model_RF = RandomForestClassifier(n_estimators=1000, min_samples_split=10)\n",
        "model_ET = ExtraTreesClassifier(n_estimators=1000, min_samples_split=10)\n",
        "\n",
        "# Fitting and scoring each model\n",
        "\n",
        "model_RF.fit(train_X[features], train_y)\n",
        "score_RF = model_RF.score(valid_X[features], valid_y)\n",
        "\n",
        "model_ET.fit(train_X[features], train_y)\n",
        "score_ET = model_ET.score(valid_X[features], valid_y)\n",
        "\n",
        "print(score_RF, score_ET)"
      ],
      "execution_count": null,
      "outputs": [
        {
          "output_type": "stream",
          "name": "stdout",
          "text": [
            "0.8181818181818182 0.8191919191919191\n"
          ]
        }
      ]
    },
    {
      "cell_type": "markdown",
      "metadata": {
        "id": "LVEL1Yq6R7yW"
      },
      "source": [
        "Well, according to the scores, the winner is the ExtraTreeClassfier. However, the lead is only 0.001!"
      ]
    },
    {
      "cell_type": "markdown",
      "metadata": {
        "id": "GJp-4R1xoIyJ"
      },
      "source": [
        "# Finally: Fitting the model and making predictions"
      ]
    },
    {
      "cell_type": "markdown",
      "metadata": {
        "id": "pSL2gSKPd7Wc"
      },
      "source": [
        "Since the scores were almost a tie, let us train both of those models, and make predictions using both."
      ]
    },
    {
      "cell_type": "code",
      "metadata": {
        "colab": {
          "base_uri": "https://localhost:8080/"
        },
        "id": "mV1osfa_WQBv",
        "outputId": "1b079b97-ee9f-4656-b04a-d5e945e93d20"
      },
      "source": [
        "# Fitting\n",
        "fit_X = train_feats[features]\n",
        "fit_y = train_labels.status_group\n",
        "predict_X = test_feats[features]\n",
        "\n",
        "model_RF.fit(fit_X, fit_y)\n",
        "preds_RF = model_RF.predict(predict_X)\n",
        "\n",
        "print(\"Making Predictions using RF - Complete\")\n",
        "\n",
        "test_preds_RF = test_feats.copy()\n",
        "test_preds_RF['status_group'] = preds_RF\n",
        "\n",
        "model_ET.fit(fit_X, fit_y)\n",
        "preds_ET = model_ET.predict(predict_X)\n",
        "\n",
        "print(\"Making Predictions using ET - Complete\")\n",
        "\n",
        "test_preds_ET = test_feats.copy()\n",
        "test_preds_ET['status_group'] = preds_ET\n",
        "\n",
        "# test_preds.head()"
      ],
      "execution_count": null,
      "outputs": [
        {
          "output_type": "stream",
          "name": "stdout",
          "text": [
            "Making Predictions using RF - Complete\n",
            "Making Predictions using ET - Complete\n"
          ]
        }
      ]
    },
    {
      "cell_type": "markdown",
      "metadata": {
        "id": "pOC67r3hYDip"
      },
      "source": [
        "Yay! Now we have made the predictions! Let us write the output to a csv file and submit to the competition, and see our achievement."
      ]
    },
    {
      "cell_type": "code",
      "metadata": {
        "id": "AefgkBTGYUmm"
      },
      "source": [
        "out_cols = ['id', 'status_group']\n",
        "\n",
        "version = \"3-RF\"\n",
        "test_preds_RF[out_cols].to_csv(f\"./submission-{version}.csv\", index=False)\n",
        "\n",
        "version = \"3-ET\"\n",
        "test_preds_ET[out_cols].to_csv(f\"./submission-{version}.csv\", index=False)"
      ],
      "execution_count": null,
      "outputs": []
    }
  ]
}